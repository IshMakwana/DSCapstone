{
 "cells": [
  {
   "cell_type": "code",
   "execution_count": 1,
   "metadata": {},
   "outputs": [
    {
     "name": "stdout",
     "output_type": "stream",
     "text": [
      "sql engine ready\n"
     ]
    }
   ],
   "source": [
    "# Imports and constants\n",
    "import time\n",
    "import traceback\n",
    "import datetime\n",
    "import pandas as pd\n",
    "import numpy as np\n",
    "from sqlalchemy import MetaData\n",
    "from sqlalchemy import create_engine, select, insert, event\n",
    "from sqlalchemy.sql import text\n",
    "from sqlalchemy.engine import URL\n",
    "import matplotlib.pyplot as plt\n",
    "\n",
    "CHUNK_SIZE=10**6\n",
    "\n",
    "GREEN = 'green'\n",
    "YELLOW = 'yellow'\n",
    "MIN_YEAR = 2020\n",
    "MAX_YEAR = 2023\n",
    "\n",
    "COLS = ['id', \n",
    "        'pickup_datetime', 'dropoff_datetime', 'ratecode_id', \n",
    "        'pu_location_id', 'do_location_id', 'passenger_count', 'trip_distance', \n",
    "        'fare_amount', 'mta_tax', 'tip_amount', 'tolls_amount', 'total_amount', \n",
    "        'congestion_surcharge', 'improvement_surcharge', 'extra', 'payment_type']\n",
    "\n",
    "# Functions\n",
    "# def getODBCString():\n",
    "#     SERVER = 'tcp:nyc-taxi-2024.database.windows.net,1433'\n",
    "#     DATABASE = 'nyc_taxi_2024'\n",
    "#     USERNAME = 'ishmakwana'\n",
    "#     PASSWORD = 'xxx'\n",
    "\n",
    "#     con_str = f'DRIVER={{ODBC Driver 18 for SQL Server}};SERVER={SERVER};DATABASE={DATABASE};UID={USERNAME};PWD={PASSWORD};Encrypt=yes;TrustServerCertificate=no;Connection Timeout=30;'\n",
    "#     return URL.create(\"mssql+pyodbc\", query={\"odbc_connect\": con_str})\n",
    "\n",
    "def getSQLiteString():\n",
    "    return 'sqlite:///db/taxi_db.db'\n",
    "\n",
    "class TaxiDBReader:\n",
    "    def __init__(self):\n",
    "        self.md = MetaData()\n",
    "        self.engn = create_engine(getSQLiteString())\n",
    "        self.md.reflect(self.engn)\n",
    "        self.year = MAX_YEAR\n",
    "        self.taxi_type = YELLOW\n",
    "        print('sql engine ready')\n",
    "\n",
    "        with self.engn.connect() as conn:\n",
    "            conn.rollback()\n",
    "\n",
    "    def setTable(self, year=MAX_YEAR, taxi_type=YELLOW):\n",
    "        self.year = year\n",
    "        self.taxi_type = taxi_type\n",
    "\n",
    "    def getTableName(self):\n",
    "        return f'{self.taxi_type}_taxi_trips{self.year}'\n",
    "    \n",
    "\n",
    "dr = TaxiDBReader()\n",
    "        "
   ]
  },
  {
   "cell_type": "code",
   "execution_count": 2,
   "metadata": {},
   "outputs": [],
   "source": [
    "dr.setTable(year=2023, taxi_type=YELLOW)\n",
    "table_name = dr.getTableName()"
   ]
  },
  {
   "cell_type": "code",
   "execution_count": null,
   "metadata": {},
   "outputs": [],
   "source": [
    "# average passenger count by pickup location id\n",
    "dr.setTable(year=2023, taxi_type=YELLOW)\n",
    "table_name = dr.getTableName()\n",
    "\n",
    "with dr.engn.connect() as conn:\n",
    "    # start = 0\n",
    "    # count = 10\n",
    "    # sql = text(f'SELECT * FROM {table_name} LIMIT {count} OFFSET {start} ROWS FETCH NEXT {count} ROWS ONLY')\n",
    "    # month = 1 # january\n",
    "    # day = 1\n",
    "    # hour = 1\n",
    "    # sql = text(f'select * from {table_name} where strftime(\\'%m\\', pickup_datetime) = \\'0{month}\\'')\n",
    "    sql = text(f'select pu_location_id, avg(passenger_count) as avg_passenger_count from {table_name} where passenger_count > 0 group by pu_location_id')\n",
    "    df = pd.read_sql(sql, conn)\n",
    "\n",
    "    print(df)\n",
    "\n"
   ]
  },
  {
   "cell_type": "code",
   "execution_count": null,
   "metadata": {},
   "outputs": [],
   "source": [
    "# number of trips by pickup location where no passengers where recorded\n",
    "# with dr.engn.connect() as conn:\n",
    "    \n",
    "#     sql = text(f'select pu_location_id, count(passenger_count) as count_passenger_count from {table_name} where passenger_count = 0 group by pu_location_id')\n",
    "#     df = pd.read_sql(sql, conn)\n",
    "\n",
    "#     print(df)\n",
    "\n"
   ]
  },
  {
   "cell_type": "code",
   "execution_count": null,
   "metadata": {},
   "outputs": [],
   "source": [
    "# maximum and minimum number of passengers\n",
    "with dr.engn.connect() as conn:\n",
    "    \n",
    "    sql = text(f'select max(passenger_count) as max_passenger_count, min(passenger_count) as min_passenger_count from {table_name}')\n",
    "    df = pd.read_sql(sql, conn)\n",
    "\n",
    "    print(df)\n",
    "\n",
    "    # total trips where passenger_count is 0\n",
    "    sql = text(f'select count(*) trips_no_passenger from {table_name} where passenger_count = 0')\n",
    "    df = pd.read_sql(sql, conn)\n",
    "    print(df)\n",
    "\n"
   ]
  },
  {
   "cell_type": "code",
   "execution_count": 20,
   "metadata": {},
   "outputs": [
    {
     "name": "stdout",
     "output_type": "stream",
     "text": [
      "yearMonthVal: 2023 01\n",
      "        trip_distance  total_amount\n",
      "0                1.90         20.85\n",
      "1                1.30         16.30\n",
      "2                1.00         13.80\n",
      "3                2.30         19.65\n",
      "4                2.10         17.80\n",
      "...               ...           ...\n",
      "122902           3.05         23.76\n",
      "122903           5.80         29.07\n",
      "122904           4.67         26.93\n",
      "122905           3.15         26.58\n",
      "122906           2.85         21.97\n",
      "\n",
      "[122907 rows x 2 columns]\n"
     ]
    }
   ],
   "source": [
    "# trips in jan where passenger count is 0\n",
    "with dr.engn.connect() as conn:\n",
    "    \n",
    "    date = datetime.datetime(year=2023, month=1, day=1)\n",
    "    yearMonthFmt = '%Y %m'\n",
    "    yearMonthVal = f'{date.year:04d} {date.month:02d}'\n",
    "    print(f'yearMonthVal: {yearMonthVal}')\n",
    "    # sql = text(f'select distinct strftime(\\'%Y\\', pickup_datetime) as year, strftime(\\'%m\\', pickup_datetime) as month from {table_name} where passenger_count=0')\n",
    "    sql = text(f'select trip_distance, total_amount from {table_name} where passenger_count=0 and strftime(\\'{yearMonthFmt}\\', pickup_datetime)=\\'{yearMonthVal}\\'')\n",
    "    df = pd.read_sql(sql, conn)\n",
    "    print(df)\n",
    "\n"
   ]
  },
  {
   "cell_type": "code",
   "execution_count": 3,
   "metadata": {},
   "outputs": [
    {
     "name": "stdout",
     "output_type": "stream",
     "text": [
      "yearMonthVal: 2023 01\n",
      "   count(*)\n",
      "0       291\n"
     ]
    }
   ],
   "source": [
    "# number of trips where passenger count is 0 and also trip_distance and total_amount\n",
    "with dr.engn.connect() as conn:\n",
    "    \n",
    "    sql = text(f'select count(*) from {table_name} where passenger_count=0 and trip_distance=0 and total_amount=0')\n",
    "    df = pd.read_sql(sql, conn)\n",
    "    print(df)\n",
    "\n"
   ]
  }
 ],
 "metadata": {
  "kernelspec": {
   "display_name": "Python 3",
   "language": "python",
   "name": "python3"
  },
  "language_info": {
   "codemirror_mode": {
    "name": "ipython",
    "version": 3
   },
   "file_extension": ".py",
   "mimetype": "text/x-python",
   "name": "python",
   "nbconvert_exporter": "python",
   "pygments_lexer": "ipython3",
   "version": "3.10.6"
  }
 },
 "nbformat": 4,
 "nbformat_minor": 2
}
