{
 "cells": [
  {
   "cell_type": "code",
   "execution_count": 13,
   "metadata": {},
   "outputs": [
    {
     "name": "stdout",
     "output_type": "stream",
     "text": [
      "sql engine ready\n"
     ]
    }
   ],
   "source": [
    "# Imports and constants\n",
    "import time\n",
    "import traceback\n",
    "import pandas as pd\n",
    "import numpy as np\n",
    "from sqlalchemy import MetaData\n",
    "from sqlalchemy import create_engine, select, insert, event\n",
    "from sqlalchemy.sql import text\n",
    "from sqlalchemy.engine import URL\n",
    "import matplotlib.pyplot as plt\n",
    "\n",
    "CHUNK_SIZE=10**6\n",
    "\n",
    "GREEN = 'green'\n",
    "YELLOW = 'yellow'\n",
    "MIN_YEAR = 2020\n",
    "MAX_YEAR = 2023\n",
    "\n",
    "COLS = ['id', \n",
    "        'pickup_datetime', 'dropoff_datetime', 'ratecode_id', \n",
    "        'pu_location_id', 'do_location_id', 'passenger_count', 'trip_distance', \n",
    "        'fare_amount', 'mta_tax', 'tip_amount', 'tolls_amount', 'total_amount', \n",
    "        'congestion_surcharge', 'improvement_surcharge', 'extra', 'payment_type']\n",
    "\n",
    "# Functions\n",
    "def getConnectionString():\n",
    "    SERVER = 'tcp:nyc-taxi-2024.database.windows.net,1433'\n",
    "    DATABASE = 'nyc_taxi_2024'\n",
    "    USERNAME = 'ishmakwana'\n",
    "    PASSWORD = 'xxx'\n",
    "\n",
    "    return f'DRIVER={{ODBC Driver 18 for SQL Server}};SERVER={SERVER};DATABASE={DATABASE};UID={USERNAME};PWD={PASSWORD};Encrypt=yes;TrustServerCertificate=no;Connection Timeout=30;'\n",
    "\n",
    "class TaxiDBReader:\n",
    "    def __init__(self):\n",
    "        self.md = MetaData()\n",
    "        self.engn = create_engine(URL.create(\"mssql+pyodbc\", query={\"odbc_connect\": getConnectionString()}))\n",
    "        self.md.reflect(self.engn)\n",
    "        self.year = MAX_YEAR\n",
    "        self.taxi_type = YELLOW\n",
    "        print('sql engine ready')\n",
    "\n",
    "        with self.engn.connect() as conn:\n",
    "            conn.rollback()\n",
    "\n",
    "        @event.listens_for(self.engn, 'before_cursor_execute')\n",
    "        def receive_before_cursor_execute(conn, cursor, statement, params, context, executemany):\n",
    "            # print(f'params: {params}')\n",
    "            if executemany:\n",
    "                cursor.fast_executemany = True\n",
    "\n",
    "    def setTable(self, year=MAX_YEAR, taxi_type=YELLOW):\n",
    "        self.year = year\n",
    "        self.taxi_type = taxi_type\n",
    "\n",
    "    def getTableName(self):\n",
    "        postfix = '' if self.year == MIN_YEAR else self.year\n",
    "        return f'{self.taxi_type}_taxi_trips{postfix}'\n",
    "    \n",
    "\n",
    "dr = TaxiDBReader()\n",
    "        "
   ]
  },
  {
   "cell_type": "code",
   "execution_count": 18,
   "metadata": {},
   "outputs": [
    {
     "data": {
      "image/png": "[encoded data removed]",
      "text/plain": [
       "<Figure size 640x480 with 1 Axes>"
      ]
     },
     "metadata": {},
     "output_type": "display_data"
    }
   ],
   "source": [
    "dr.setTable(year=2023, taxi_type=YELLOW)\n",
    "table_name = dr.getTableName()\n",
    "\n",
    "with dr.engn.connect() as conn:\n",
    "    start = 0\n",
    "    count = 10\n",
    "    sql = text(f'SELECT * FROM {table_name} ORDER BY id OFFSET {start} ROWS FETCH NEXT {count} ROWS ONLY')\n",
    "    df = pd.read_sql(sql, conn)\n",
    "\n",
    "    r = np.arange(count) \n",
    "    width = 0.25\n",
    "\n",
    "    plt.bar(r, df['fare_amount'], color = 'g', \n",
    "            width = width, edgecolor = 'black', \n",
    "            label='Fare') \n",
    "    plt.bar(r+width, df['tip_amount'], color = 'r', \n",
    "            width = width, edgecolor = 'black', \n",
    "            label='Tip') \n",
    "    plt.bar(r+2*width, df['total_amount'], color = 'b', \n",
    "            width = width, edgecolor = 'black', \n",
    "            label='Total') \n",
    "    \n",
    "    plt.xlabel(\"#\") \n",
    "    plt.ylabel(\"Fare Breakdown\") \n",
    "    plt.title(\"Yellow Taxi 2023\") \n",
    "    plt.legend()\n",
    "    plt.show()\n",
    "\n",
    "    \n",
    "\n"
   ]
  },
  {
   "cell_type": "code",
   "execution_count": null,
   "metadata": {},
   "outputs": [],
   "source": [
    "# Future todos\n",
    "# get average for fares / passenger count\n",
    "# do sampling for time of day, or convert to daily data by average data for the day\n",
    "# look for missing values"
   ]
  }
 ],
 "metadata": {
  "kernelspec": {
   "display_name": "Python 3",
   "language": "python",
   "name": "python3"
  },
  "language_info": {
   "codemirror_mode": {
    "name": "ipython",
    "version": 3
   },
   "file_extension": ".py",
   "mimetype": "text/x-python",
   "name": "python",
   "nbconvert_exporter": "python",
   "pygments_lexer": "ipython3",
   "version": "3.10.6"
  }
 },
 "nbformat": 4,
 "nbformat_minor": 2
}
