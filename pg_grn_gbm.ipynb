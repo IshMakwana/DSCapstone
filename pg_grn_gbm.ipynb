{
 "cells": [
  {
   "cell_type": "code",
   "execution_count": 1,
   "metadata": {},
   "outputs": [
    {
     "name": "stdout",
     "output_type": "stream",
     "text": [
      "sql engine ready\n",
      "Model Accuracy Metrics:\n",
      "Mean Absolute Error (MAE): 0.96\n",
      "Root Mean Squared Error (RMSE): 2.82\n",
      "R-squared (Accuracy): 0.94\n"
     ]
    },
    {
     "data": {
      "application/vnd.plotly.v1+json": {
       "config": {
        "plotlyServerURL": "https://plot.ly"
       },
       "data": [
        {
         "line": {
          "color": "blue"
         },
         "mode": "lines+markers",
         "name": "Actual",
         "type": "scatter",
         "x": [
          0,
          1,
          2,
          3,
          4,
          5,
          6,
          7,
          8,
          9,
          10,
          11,
          12,
          13,
          14,
          15,
          16,
          17,
          18,
          19,
          20,
          21,
          22,
          23,
          24,
          25,
          26,
          27,
          28,
          29,
          30,
          31,
          32,
          33,
          34,
          35,
          36,
          37,
          38,
          39,
          40,
          41,
          42,
          43,
          44,
          45,
          46,
          47,
          48,
          49,
          50,
          51,
          52,
          53,
          54,
          55,
          56,
          57,
          58,
          59,
          60,
          61,
          62,
          63,
          64,
          65,
          66,
          67,
          68,
          69,
          70,
          71,
          72,
          73,
          74,
          75,
          76,
          77,
          78,
          79,
          80,
          81,
          82,
          83,
          84,
          85,
          86,
          87,
          88,
          89,
          90,
          91,
          92,
          93,
          94,
          95,
          96,
          97,
          98,
          99,
          100,
          101,
          102,
          103,
          104,
          105,
          106,
          107,
          108,
          109,
          110,
          111,
          112,
          113,
          114,
          115,
          116,
          117,
          118,
          119,
          120,
          121,
          122,
          123,
          124,
          125,
          126,
          127,
          128,
          129,
          130,
          131,
          132,
          133,
          134,
          135,
          136,
          137,
          138,
          139,
          140,
          141,
          142,
          143,
          144,
          145,
          146,
          147,
          148,
          149
         ],
         "y": [
          8.6,
          22.6,
          21.9,
          10.7,
          11.4,
          15.6,
          9.5,
          6.5,
          16.3,
          14.9,
          10,
          6.5,
          9.3,
          12.1,
          4.5,
          14.9,
          17,
          47.8,
          13.5,
          41.5,
          17.7,
          16.3,
          11.4,
          33.1,
          6.5,
          20.5,
          27.5,
          11.4,
          6.5,
          13.5,
          14.9,
          6.5,
          31,
          14.2,
          12.8,
          8.6,
          12.1,
          10,
          43.6,
          12.8,
          11.4,
          12.1,
          17,
          9.3,
          10,
          11.4,
          11.4,
          8.6,
          66.7,
          14.9,
          13.5,
          12.8,
          7.9,
          16.3,
          8.6,
          12.1,
          10,
          15.6,
          9.3,
          21.2,
          9.3,
          5.1,
          7.9,
          17.7,
          16.3,
          26.1,
          6.5,
          10,
          10.7,
          15.6,
          12.8,
          7.9,
          7.2,
          11.4,
          21.9,
          7.9,
          17,
          18.4,
          8.6,
          15.6,
          7.9,
          7.2,
          8.6,
          8.6,
          9.3,
          18.4,
          5.1,
          7.9,
          10,
          8.6,
          19.8,
          7.9,
          13.5,
          22.6,
          10,
          21.2,
          10,
          8.6,
          17,
          14.9,
          34.5,
          7.9,
          7.9,
          34.5,
          7,
          18.4,
          26.1,
          8.6,
          9.3,
          22.6,
          7.2,
          8.6,
          14.9,
          14.2,
          13.5,
          23.3,
          17,
          3,
          12.8,
          36.6,
          33.8,
          11.4,
          14.9,
          9.5,
          21.9,
          9.3,
          14.9,
          10,
          12.1,
          12.1,
          7.9,
          11.4,
          45,
          35.2,
          6.5,
          9.3,
          7.2,
          13.5,
          9.3,
          12.8,
          10,
          14.2,
          11.4,
          3.7,
          12.8,
          10,
          21.9,
          9.3,
          14.9,
          50.6
         ]
        },
        {
         "line": {
          "color": "orange"
         },
         "mode": "lines+markers",
         "name": "Predicted",
         "type": "scatter",
         "x": [
          0,
          1,
          2,
          3,
          4,
          5,
          6,
          7,
          8,
          9,
          10,
          11,
          12,
          13,
          14,
          15,
          16,
          17,
          18,
          19,
          20,
          21,
          22,
          23,
          24,
          25,
          26,
          27,
          28,
          29,
          30,
          31,
          32,
          33,
          34,
          35,
          36,
          37,
          38,
          39,
          40,
          41,
          42,
          43,
          44,
          45,
          46,
          47,
          48,
          49,
          50,
          51,
          52,
          53,
          54,
          55,
          56,
          57,
          58,
          59,
          60,
          61,
          62,
          63,
          64,
          65,
          66,
          67,
          68,
          69,
          70,
          71,
          72,
          73,
          74,
          75,
          76,
          77,
          78,
          79,
          80,
          81,
          82,
          83,
          84,
          85,
          86,
          87,
          88,
          89,
          90,
          91,
          92,
          93,
          94,
          95,
          96,
          97,
          98,
          99,
          100,
          101,
          102,
          103,
          104,
          105,
          106,
          107,
          108,
          109,
          110,
          111,
          112,
          113,
          114,
          115,
          116,
          117,
          118,
          119,
          120,
          121,
          122,
          123,
          124,
          125,
          126,
          127,
          128,
          129,
          130,
          131,
          132,
          133,
          134,
          135,
          136,
          137,
          138,
          139,
          140,
          141,
          142,
          143,
          144,
          145,
          146,
          147,
          148,
          149
         ],
         "y": [
          7.95264201053647,
          23.5195737810444,
          22.36318702059537,
          10.665279307843127,
          11.955811171945813,
          15.180812246576043,
          11.871170176179062,
          6.686294502286393,
          15.45536415768483,
          14.704385611476035,
          10.0698629583918,
          6.940425961938333,
          8.90458801821511,
          11.995513937345626,
          5.5135495909825165,
          14.750296361109248,
          16.844111612550893,
          44.9997527358458,
          13.741544531293988,
          38.671552679297825,
          16.656106289283795,
          17.673216470020687,
          11.538727939340937,
          32.668046867663946,
          6.107228240851499,
          19.729677660862745,
          25.76763963448051,
          11.552026205594,
          6.49987368831437,
          14.201010186865647,
          14.320343289557298,
          6.749023765318481,
          31.64183212675015,
          14.170289247759737,
          13.319596286786924,
          8.66562356191579,
          9.691098286257068,
          9.766647997453441,
          43.08178641425275,
          13.315863963119467,
          10.76959014720083,
          12.582980501271852,
          17.106123977437047,
          9.181273038490303,
          9.854560057771316,
          12.21852265730041,
          11.009368716057985,
          8.188111639749575,
          67.41305802026788,
          14.050053035281323,
          14.287122019955952,
          12.606242150879638,
          7.388340744425825,
          15.942219241595671,
          8.244467254730486,
          11.71217990328954,
          8.87378378849532,
          14.343046621705321,
          9.391700121778563,
          19.63329922408123,
          8.907005277448919,
          5.496322212831237,
          8.194133810057844,
          17.765049502249198,
          15.846217904671795,
          26.19217492093152,
          6.554975750050988,
          9.834306986561865,
          11.017178824165086,
          14.216947816270558,
          11.415911037812073,
          7.500757066844449,
          7.58900655798181,
          11.280203438096173,
          21.57652386747483,
          6.677933567621297,
          13.320791449128183,
          18.39858461379154,
          8.507199549323644,
          15.251767261722188,
          8.484614156659111,
          8.4045542981285,
          8.79409659167999,
          8.85748158595072,
          7.620273089857408,
          14.162236913251125,
          5.450388345987982,
          7.990240532730924,
          8.862010984512308,
          8.53389457047165,
          20.10191673073443,
          7.77160059660964,
          12.569804565251308,
          24.122288532624275,
          9.995206554911684,
          21.757960566653427,
          10.287806899720596,
          8.76402805798215,
          16.39880530331491,
          15.174525640174272,
          33.59173243096856,
          7.828666122110624,
          7.788761352551958,
          35.24233341840355,
          8.828615121493865,
          18.624583089824444,
          28.407461001525515,
          8.77435213047449,
          9.479094150023968,
          23.815706225002646,
          7.287463542503053,
          9.003263702965258,
          15.22587593227455,
          13.312321794964422,
          13.062980316088877,
          23.401181722684086,
          17.681726621791483,
          3.8632500875166427,
          12.521483298499298,
          36.12776292884286,
          33.277035464634345,
          10.910279854108545,
          14.619823719628588,
          11.700848492214348,
          22.497449149893207,
          9.512219557178584,
          14.756310966308405,
          9.893477853047502,
          12.558125973675738,
          12.21243197839269,
          7.440980597427474,
          11.01325744350732,
          47.15432445699681,
          32.83222059525236,
          6.825701221267153,
          9.050794631422908,
          7.503686772899206,
          12.595827078648714,
          9.187081814304817,
          12.553841870554187,
          9.949850016919985,
          14.063048682417012,
          11.783695040153283,
          4.3871287582841605,
          12.625404231459388,
          9.55047459396176,
          20.51433580355493,
          9.491417555831312,
          15.129005905137957,
          47.873018231912674
         ]
        }
       ],
       "layout": {
        "legend": {
         "x": 0.5,
         "xanchor": "center",
         "y": 1.15,
         "yanchor": "top"
        },
        "template": {
         "data": {
          "bar": [
           {
            "error_x": {
             "color": "#2a3f5f"
            },
            "error_y": {
             "color": "#2a3f5f"
            },
            "marker": {
             "line": {
              "color": "white",
              "width": 0.5
             },
             "pattern": {
              "fillmode": "overlay",
              "size": 10,
              "solidity": 0.2
             }
            },
            "type": "bar"
           }
          ],
          "barpolar": [
           {
            "marker": {
             "line": {
              "color": "white",
              "width": 0.5
             },
             "pattern": {
              "fillmode": "overlay",
              "size": 10,
              "solidity": 0.2
             }
            },
            "type": "barpolar"
           }
          ],
          "carpet": [
           {
            "aaxis": {
             "endlinecolor": "#2a3f5f",
             "gridcolor": "#C8D4E3",
             "linecolor": "#C8D4E3",
             "minorgridcolor": "#C8D4E3",
             "startlinecolor": "#2a3f5f"
            },
            "baxis": {
             "endlinecolor": "#2a3f5f",
             "gridcolor": "#C8D4E3",
             "linecolor": "#C8D4E3",
             "minorgridcolor": "#C8D4E3",
             "startlinecolor": "#2a3f5f"
            },
            "type": "carpet"
           }
          ],
          "choropleth": [
           {
            "colorbar": {
             "outlinewidth": 0,
             "ticks": ""
            },
            "type": "choropleth"
           }
          ],
          "contour": [
           {
            "colorbar": {
             "outlinewidth": 0,
             "ticks": ""
            },
            "colorscale": [
             [
              0,
              "#0d0887"
             ],
             [
              0.1111111111111111,
              "#46039f"
             ],
             [
              0.2222222222222222,
              "#7201a8"
             ],
             [
              0.3333333333333333,
              "#9c179e"
             ],
             [
              0.4444444444444444,
              "#bd3786"
             ],
             [
              0.5555555555555556,
              "#d8576b"
             ],
             [
              0.6666666666666666,
              "#ed7953"
             ],
             [
              0.7777777777777778,
              "#fb9f3a"
             ],
             [
              0.8888888888888888,
              "#fdca26"
             ],
             [
              1,
              "#f0f921"
             ]
            ],
            "type": "contour"
           }
          ],
          "contourcarpet": [
           {
            "colorbar": {
             "outlinewidth": 0,
             "ticks": ""
            },
            "type": "contourcarpet"
           }
          ],
          "heatmap": [
           {
            "colorbar": {
             "outlinewidth": 0,
             "ticks": ""
            },
            "colorscale": [
             [
              0,
              "#0d0887"
             ],
             [
              0.1111111111111111,
              "#46039f"
             ],
             [
              0.2222222222222222,
              "#7201a8"
             ],
             [
              0.3333333333333333,
              "#9c179e"
             ],
             [
              0.4444444444444444,
              "#bd3786"
             ],
             [
              0.5555555555555556,
              "#d8576b"
             ],
             [
              0.6666666666666666,
              "#ed7953"
             ],
             [
              0.7777777777777778,
              "#fb9f3a"
             ],
             [
              0.8888888888888888,
              "#fdca26"
             ],
             [
              1,
              "#f0f921"
             ]
            ],
            "type": "heatmap"
           }
          ],
          "heatmapgl": [
           {
            "colorbar": {
             "outlinewidth": 0,
             "ticks": ""
            },
            "colorscale": [
             [
              0,
              "#0d0887"
             ],
             [
              0.1111111111111111,
              "#46039f"
             ],
             [
              0.2222222222222222,
              "#7201a8"
             ],
             [
              0.3333333333333333,
              "#9c179e"
             ],
             [
              0.4444444444444444,
              "#bd3786"
             ],
             [
              0.5555555555555556,
              "#d8576b"
             ],
             [
              0.6666666666666666,
              "#ed7953"
             ],
             [
              0.7777777777777778,
              "#fb9f3a"
             ],
             [
              0.8888888888888888,
              "#fdca26"
             ],
             [
              1,
              "#f0f921"
             ]
            ],
            "type": "heatmapgl"
           }
          ],
          "histogram": [
           {
            "marker": {
             "pattern": {
              "fillmode": "overlay",
              "size": 10,
              "solidity": 0.2
             }
            },
            "type": "histogram"
           }
          ],
          "histogram2d": [
           {
            "colorbar": {
             "outlinewidth": 0,
             "ticks": ""
            },
            "colorscale": [
             [
              0,
              "#0d0887"
             ],
             [
              0.1111111111111111,
              "#46039f"
             ],
             [
              0.2222222222222222,
              "#7201a8"
             ],
             [
              0.3333333333333333,
              "#9c179e"
             ],
             [
              0.4444444444444444,
              "#bd3786"
             ],
             [
              0.5555555555555556,
              "#d8576b"
             ],
             [
              0.6666666666666666,
              "#ed7953"
             ],
             [
              0.7777777777777778,
              "#fb9f3a"
             ],
             [
              0.8888888888888888,
              "#fdca26"
             ],
             [
              1,
              "#f0f921"
             ]
            ],
            "type": "histogram2d"
           }
          ],
          "histogram2dcontour": [
           {
            "colorbar": {
             "outlinewidth": 0,
             "ticks": ""
            },
            "colorscale": [
             [
              0,
              "#0d0887"
             ],
             [
              0.1111111111111111,
              "#46039f"
             ],
             [
              0.2222222222222222,
              "#7201a8"
             ],
             [
              0.3333333333333333,
              "#9c179e"
             ],
             [
              0.4444444444444444,
              "#bd3786"
             ],
             [
              0.5555555555555556,
              "#d8576b"
             ],
             [
              0.6666666666666666,
              "#ed7953"
             ],
             [
              0.7777777777777778,
              "#fb9f3a"
             ],
             [
              0.8888888888888888,
              "#fdca26"
             ],
             [
              1,
              "#f0f921"
             ]
            ],
            "type": "histogram2dcontour"
           }
          ],
          "mesh3d": [
           {
            "colorbar": {
             "outlinewidth": 0,
             "ticks": ""
            },
            "type": "mesh3d"
           }
          ],
          "parcoords": [
           {
            "line": {
             "colorbar": {
              "outlinewidth": 0,
              "ticks": ""
             }
            },
            "type": "parcoords"
           }
          ],
          "pie": [
           {
            "automargin": true,
            "type": "pie"
           }
          ],
          "scatter": [
           {
            "fillpattern": {
             "fillmode": "overlay",
             "size": 10,
             "solidity": 0.2
            },
            "type": "scatter"
           }
          ],
          "scatter3d": [
           {
            "line": {
             "colorbar": {
              "outlinewidth": 0,
              "ticks": ""
             }
            },
            "marker": {
             "colorbar": {
              "outlinewidth": 0,
              "ticks": ""
             }
            },
            "type": "scatter3d"
           }
          ],
          "scattercarpet": [
           {
            "marker": {
             "colorbar": {
              "outlinewidth": 0,
              "ticks": ""
             }
            },
            "type": "scattercarpet"
           }
          ],
          "scattergeo": [
           {
            "marker": {
             "colorbar": {
              "outlinewidth": 0,
              "ticks": ""
             }
            },
            "type": "scattergeo"
           }
          ],
          "scattergl": [
           {
            "marker": {
             "colorbar": {
              "outlinewidth": 0,
              "ticks": ""
             }
            },
            "type": "scattergl"
           }
          ],
          "scattermapbox": [
           {
            "marker": {
             "colorbar": {
              "outlinewidth": 0,
              "ticks": ""
             }
            },
            "type": "scattermapbox"
           }
          ],
          "scatterpolar": [
           {
            "marker": {
             "colorbar": {
              "outlinewidth": 0,
              "ticks": ""
             }
            },
            "type": "scatterpolar"
           }
          ],
          "scatterpolargl": [
           {
            "marker": {
             "colorbar": {
              "outlinewidth": 0,
              "ticks": ""
             }
            },
            "type": "scatterpolargl"
           }
          ],
          "scatterternary": [
           {
            "marker": {
             "colorbar": {
              "outlinewidth": 0,
              "ticks": ""
             }
            },
            "type": "scatterternary"
           }
          ],
          "surface": [
           {
            "colorbar": {
             "outlinewidth": 0,
             "ticks": ""
            },
            "colorscale": [
             [
              0,
              "#0d0887"
             ],
             [
              0.1111111111111111,
              "#46039f"
             ],
             [
              0.2222222222222222,
              "#7201a8"
             ],
             [
              0.3333333333333333,
              "#9c179e"
             ],
             [
              0.4444444444444444,
              "#bd3786"
             ],
             [
              0.5555555555555556,
              "#d8576b"
             ],
             [
              0.6666666666666666,
              "#ed7953"
             ],
             [
              0.7777777777777778,
              "#fb9f3a"
             ],
             [
              0.8888888888888888,
              "#fdca26"
             ],
             [
              1,
              "#f0f921"
             ]
            ],
            "type": "surface"
           }
          ],
          "table": [
           {
            "cells": {
             "fill": {
              "color": "#EBF0F8"
             },
             "line": {
              "color": "white"
             }
            },
            "header": {
             "fill": {
              "color": "#C8D4E3"
             },
             "line": {
              "color": "white"
             }
            },
            "type": "table"
           }
          ]
         },
         "layout": {
          "annotationdefaults": {
           "arrowcolor": "#2a3f5f",
           "arrowhead": 0,
           "arrowwidth": 1
          },
          "autotypenumbers": "strict",
          "coloraxis": {
           "colorbar": {
            "outlinewidth": 0,
            "ticks": ""
           }
          },
          "colorscale": {
           "diverging": [
            [
             0,
             "#8e0152"
            ],
            [
             0.1,
             "#c51b7d"
            ],
            [
             0.2,
             "#de77ae"
            ],
            [
             0.3,
             "#f1b6da"
            ],
            [
             0.4,
             "#fde0ef"
            ],
            [
             0.5,
             "#f7f7f7"
            ],
            [
             0.6,
             "#e6f5d0"
            ],
            [
             0.7,
             "#b8e186"
            ],
            [
             0.8,
             "#7fbc41"
            ],
            [
             0.9,
             "#4d9221"
            ],
            [
             1,
             "#276419"
            ]
           ],
           "sequential": [
            [
             0,
             "#0d0887"
            ],
            [
             0.1111111111111111,
             "#46039f"
            ],
            [
             0.2222222222222222,
             "#7201a8"
            ],
            [
             0.3333333333333333,
             "#9c179e"
            ],
            [
             0.4444444444444444,
             "#bd3786"
            ],
            [
             0.5555555555555556,
             "#d8576b"
            ],
            [
             0.6666666666666666,
             "#ed7953"
            ],
            [
             0.7777777777777778,
             "#fb9f3a"
            ],
            [
             0.8888888888888888,
             "#fdca26"
            ],
            [
             1,
             "#f0f921"
            ]
           ],
           "sequentialminus": [
            [
             0,
             "#0d0887"
            ],
            [
             0.1111111111111111,
             "#46039f"
            ],
            [
             0.2222222222222222,
             "#7201a8"
            ],
            [
             0.3333333333333333,
             "#9c179e"
            ],
            [
             0.4444444444444444,
             "#bd3786"
            ],
            [
             0.5555555555555556,
             "#d8576b"
            ],
            [
             0.6666666666666666,
             "#ed7953"
            ],
            [
             0.7777777777777778,
             "#fb9f3a"
            ],
            [
             0.8888888888888888,
             "#fdca26"
            ],
            [
             1,
             "#f0f921"
            ]
           ]
          },
          "colorway": [
           "#636efa",
           "#EF553B",
           "#00cc96",
           "#ab63fa",
           "#FFA15A",
           "#19d3f3",
           "#FF6692",
           "#B6E880",
           "#FF97FF",
           "#FECB52"
          ],
          "font": {
           "color": "#2a3f5f"
          },
          "geo": {
           "bgcolor": "white",
           "lakecolor": "white",
           "landcolor": "white",
           "showlakes": true,
           "showland": true,
           "subunitcolor": "#C8D4E3"
          },
          "hoverlabel": {
           "align": "left"
          },
          "hovermode": "closest",
          "mapbox": {
           "style": "light"
          },
          "paper_bgcolor": "white",
          "plot_bgcolor": "white",
          "polar": {
           "angularaxis": {
            "gridcolor": "#EBF0F8",
            "linecolor": "#EBF0F8",
            "ticks": ""
           },
           "bgcolor": "white",
           "radialaxis": {
            "gridcolor": "#EBF0F8",
            "linecolor": "#EBF0F8",
            "ticks": ""
           }
          },
          "scene": {
           "xaxis": {
            "backgroundcolor": "white",
            "gridcolor": "#DFE8F3",
            "gridwidth": 2,
            "linecolor": "#EBF0F8",
            "showbackground": true,
            "ticks": "",
            "zerolinecolor": "#EBF0F8"
           },
           "yaxis": {
            "backgroundcolor": "white",
            "gridcolor": "#DFE8F3",
            "gridwidth": 2,
            "linecolor": "#EBF0F8",
            "showbackground": true,
            "ticks": "",
            "zerolinecolor": "#EBF0F8"
           },
           "zaxis": {
            "backgroundcolor": "white",
            "gridcolor": "#DFE8F3",
            "gridwidth": 2,
            "linecolor": "#EBF0F8",
            "showbackground": true,
            "ticks": "",
            "zerolinecolor": "#EBF0F8"
           }
          },
          "shapedefaults": {
           "line": {
            "color": "#2a3f5f"
           }
          },
          "ternary": {
           "aaxis": {
            "gridcolor": "#DFE8F3",
            "linecolor": "#A2B1C6",
            "ticks": ""
           },
           "baxis": {
            "gridcolor": "#DFE8F3",
            "linecolor": "#A2B1C6",
            "ticks": ""
           },
           "bgcolor": "white",
           "caxis": {
            "gridcolor": "#DFE8F3",
            "linecolor": "#A2B1C6",
            "ticks": ""
           }
          },
          "title": {
           "x": 0.05
          },
          "xaxis": {
           "automargin": true,
           "gridcolor": "#EBF0F8",
           "linecolor": "#EBF0F8",
           "ticks": "",
           "title": {
            "standoff": 15
           },
           "zerolinecolor": "#EBF0F8",
           "zerolinewidth": 2
          },
          "yaxis": {
           "automargin": true,
           "gridcolor": "#EBF0F8",
           "linecolor": "#EBF0F8",
           "ticks": "",
           "title": {
            "standoff": 15
           },
           "zerolinecolor": "#EBF0F8",
           "zerolinewidth": 2
          }
         }
        },
        "title": {
         "text": "Actual vs Predicted Fare Amount (Limited to 150 Samples)"
        },
        "xaxis": {
         "title": {
          "text": "Sample Index"
         }
        },
        "yaxis": {
         "title": {
          "text": "Fare Amount ($)"
         }
        }
       }
      }
     },
     "metadata": {},
     "output_type": "display_data"
    }
   ],
   "source": [
    "from sklearn.ensemble import GradientBoostingRegressor\n",
    "from data import *\n",
    "from model import *\n",
    "\n",
    "taxi_type = GREEN\n",
    "train_sql = getSqlForModeling(taxi_type, isTrain=True)\n",
    "test_sql = getSqlForModeling(taxi_type, isTrain=False)\n",
    "\n",
    "\n",
    "\n",
    "model = GradientBoostingRegressor(n_estimators=500, \n",
    "                                  learning_rate=0.1, \n",
    "                                  max_depth=3,\n",
    "                                  validation_fraction=0.1, \n",
    "                                  n_iter_no_change=10)\n",
    "\n",
    "# Training\n",
    "with DR.engn.connect() as conn:\n",
    "    processed = 0\n",
    "    for df in pd.read_sql(train_sql, conn, chunksize=CHUNK_SIZE):\n",
    "        processed += len(df)\n",
    "        X = df[FEATURES]\n",
    "        y = df[VARIABLE]\n",
    "\n",
    "        model.fit(X, y)\n",
    "        O.out(f'Trained {processed} rows')\n",
    "\n",
    "# Predictions\n",
    "with DR.engn.connect() as conn:\n",
    "    processed = 0\n",
    "    y_test = []\n",
    "    y_pred = []\n",
    "    for df in pd.read_sql(test_sql, conn, chunksize=CHUNK_SIZE):\n",
    "        processed += len(df)\n",
    "        X = df[FEATURES]\n",
    "        y_test.append(df[VARIABLE])\n",
    "\n",
    "        y_pred.append(model.predict(X))\n",
    "        O.out(f'Predicted {processed} rows')\n",
    "\n",
    "# Performance\n",
    "merged_y_test = pd.concat(y_test, ignore_index=True)\n",
    "merged_y_pred = np.concatenate(y_pred)\n",
    "\n",
    "showPerformance(merged_y_test, merged_y_pred)"
   ]
  },
  {
   "cell_type": "code",
   "execution_count": null,
   "metadata": {},
   "outputs": [
    {
     "name": "stdout",
     "output_type": "stream",
     "text": [
      "1675331\n",
      "1011017\n",
      "802356\n",
      "757206\n"
     ]
    }
   ],
   "source": [
    "import pandas as pd\n",
    "import numpy as np\n",
    "from sklearn.model_selection import train_test_split\n",
    "from sklearn.ensemble import GradientBoostingRegressor\n",
    "from sklearn.metrics import mean_absolute_error, mean_squared_error, r2_score\n",
    "from model import *\n",
    "\n",
    "data = readData(taxi_type=GREEN)\n",
    "\n",
    "X = data[FEATURES_SET1]\n",
    "y = data[VARIABLE]\n",
    "\n",
    "# 3. Train-Test Split\n",
    "X_train, X_test, y_train, y_test = train_test_split(X, y, test_size=0.2, random_state=42)\n",
    "\n",
    "# 4. Gradient Boosting Model\n",
    "model = GradientBoostingRegressor(n_estimators=500, learning_rate=0.1, \n",
    "                                  validation_fraction=0.1, \n",
    "                                  n_iter_no_change=10,      \n",
    "                                  max_depth=3, random_state=42)\n",
    "model.fit(X_train, y_train)\n",
    "\n",
    "# 5. Predictions\n",
    "y_pred = model.predict(X_test)\n",
    "\n"
   ]
  },
  {
   "cell_type": "code",
   "execution_count": 2,
   "metadata": {},
   "outputs": [
    {
     "name": "stdout",
     "output_type": "stream",
     "text": [
      "Model Accuracy Metrics:\n",
      "Mean Absolute Error (MAE): 2.04\n",
      "Root Mean Squared Error (RMSE): 4.34\n",
      "R-squared (Accuracy): 0.87\n"
     ]
    },
    {
     "data": {
      "application/vnd.plotly.v1+json": {
       "config": {
        "plotlyServerURL": "https://plot.ly"
       },
       "data": [
        {
         "line": {
          "color": "blue"
         },
         "mode": "lines+markers",
         "name": "Actual",
         "type": "scatter",
         "x": [
          0,
          1,
          2,
          3,
          4,
          5,
          6,
          7,
          8,
          9,
          10,
          11,
          12,
          13,
          14,
          15,
          16,
          17,
          18,
          19,
          20,
          21,
          22,
          23,
          24,
          25,
          26,
          27,
          28,
          29,
          30,
          31,
          32,
          33,
          34,
          35,
          36,
          37,
          38,
          39,
          40,
          41,
          42,
          43,
          44,
          45,
          46,
          47,
          48,
          49,
          50,
          51,
          52,
          53,
          54,
          55,
          56,
          57,
          58,
          59,
          60,
          61,
          62,
          63,
          64,
          65,
          66,
          67,
          68,
          69,
          70,
          71,
          72,
          73,
          74,
          75,
          76,
          77,
          78,
          79,
          80,
          81,
          82,
          83,
          84,
          85,
          86,
          87,
          88,
          89,
          90,
          91,
          92,
          93,
          94,
          95,
          96,
          97,
          98,
          99,
          100,
          101,
          102,
          103,
          104,
          105,
          106,
          107,
          108,
          109,
          110,
          111,
          112,
          113,
          114,
          115,
          116,
          117,
          118,
          119,
          120,
          121,
          122,
          123,
          124,
          125,
          126,
          127,
          128,
          129,
          130,
          131,
          132,
          133,
          134,
          135,
          136,
          137,
          138,
          139,
          140,
          141,
          142,
          143,
          144,
          145,
          146,
          147,
          148,
          149
         ],
         "y": [
          16,
          9.5,
          24.42,
          45,
          14.5,
          6,
          9.5,
          18.94,
          29.02,
          4.5,
          24.62,
          22.91,
          7,
          6.5,
          16,
          31.94,
          27.5,
          23.83,
          16.67,
          5,
          14.9,
          11.2,
          43.09,
          11,
          29.06,
          17,
          28.01,
          34.01,
          8.5,
          24,
          19,
          28.2,
          10,
          18.4,
          17.7,
          6.5,
          9,
          9,
          27.41,
          21.9,
          23.5,
          12.5,
          15.6,
          6,
          27.7,
          70,
          5.5,
          22.79,
          11,
          9.5,
          12.5,
          21.95,
          28.26,
          27.21,
          18.4,
          17,
          27.27,
          10,
          2.5,
          23.55,
          8.5,
          17.2,
          22.89,
          30.5,
          6,
          25.95,
          23.3,
          12.5,
          13,
          7.2,
          16,
          46.59,
          85,
          17.5,
          14.61,
          17.7,
          5.5,
          9,
          15.5,
          23.37,
          29.02,
          8.5,
          4,
          8.5,
          8.5,
          9.3,
          6.5,
          24.81,
          6,
          22.19,
          30.5,
          44.5,
          17.69,
          36.16,
          14.9,
          11.5,
          5.5,
          37.1,
          5,
          10.5,
          11,
          17,
          10,
          17.5,
          16.3,
          19.24,
          8.5,
          15.5,
          28.03,
          7.5,
          5.5,
          12.8,
          7.5,
          5,
          6.5,
          12.5,
          10.5,
          5,
          6,
          4.5,
          16.3,
          8,
          19.5,
          12,
          22.17,
          15,
          6,
          45.6,
          17.5,
          16.5,
          12.5,
          7.5,
          13.34,
          11.2,
          14.33,
          10,
          11.4,
          17,
          8,
          13.49,
          10.5,
          14,
          18,
          33.09,
          6,
          19.1,
          25.95,
          7.9,
          30.5,
          7
         ]
        },
        {
         "line": {
          "color": "orange"
         },
         "mode": "lines+markers",
         "name": "Predicted",
         "type": "scatter",
         "x": [
          0,
          1,
          2,
          3,
          4,
          5,
          6,
          7,
          8,
          9,
          10,
          11,
          12,
          13,
          14,
          15,
          16,
          17,
          18,
          19,
          20,
          21,
          22,
          23,
          24,
          25,
          26,
          27,
          28,
          29,
          30,
          31,
          32,
          33,
          34,
          35,
          36,
          37,
          38,
          39,
          40,
          41,
          42,
          43,
          44,
          45,
          46,
          47,
          48,
          49,
          50,
          51,
          52,
          53,
          54,
          55,
          56,
          57,
          58,
          59,
          60,
          61,
          62,
          63,
          64,
          65,
          66,
          67,
          68,
          69,
          70,
          71,
          72,
          73,
          74,
          75,
          76,
          77,
          78,
          79,
          80,
          81,
          82,
          83,
          84,
          85,
          86,
          87,
          88,
          89,
          90,
          91,
          92,
          93,
          94,
          95,
          96,
          97,
          98,
          99,
          100,
          101,
          102,
          103,
          104,
          105,
          106,
          107,
          108,
          109,
          110,
          111,
          112,
          113,
          114,
          115,
          116,
          117,
          118,
          119,
          120,
          121,
          122,
          123,
          124,
          125,
          126,
          127,
          128,
          129,
          130,
          131,
          132,
          133,
          134,
          135,
          136,
          137,
          138,
          139,
          140,
          141,
          142,
          143,
          144,
          145,
          146,
          147,
          148,
          149
         ],
         "y": [
          16.398949731612717,
          8.91841542184683,
          30.67987745175271,
          45.184758369601035,
          13.461922629911824,
          6.110659997309817,
          9.294189830858848,
          23.341781446511295,
          27.47263956233926,
          5.011077405411877,
          19.378228175412215,
          23.69964728925896,
          7.5158062201684706,
          6.818898216685271,
          16.19641133255575,
          38.8545152618609,
          27.117222185875903,
          19.78490029929868,
          15.873247297720578,
          5.098823046748643,
          15.021490949355277,
          8.527442408481521,
          47.383254814612684,
          11.74474973865204,
          32.677642073784845,
          19.653371038267974,
          27.00083187904073,
          33.234882255501866,
          8.678683568235044,
          24.49634241662393,
          20.06929601472728,
          24.17435131680096,
          9.840105117710968,
          20.928751843088545,
          19.64712793539594,
          7.157620256251927,
          8.519500625016624,
          8.88306387608036,
          28.983048473664272,
          22.60965913327367,
          23.23551290713527,
          13.279838104179476,
          14.128355650858182,
          7.095331429178974,
          30.478425591573224,
          15.306777508234726,
          5.633214919406245,
          14.259206207869552,
          11.22510060887696,
          9.343099858431735,
          12.424241736814295,
          22.750618322950295,
          28.802240859904472,
          26.49106227995402,
          17.288332970945874,
          15.875990283736668,
          32.512442222694716,
          10.847252927986018,
          4.704948053157899,
          23.543034791179604,
          7.992285899021234,
          15.445048088640732,
          23.081973333797123,
          31.100616024628437,
          6.156917444324949,
          21.15855163412129,
          22.014405083513644,
          12.942899728629127,
          13.896670572422272,
          6.987751610679727,
          17.468641013772277,
          46.32904917572768,
          13.063694453394149,
          17.78025625412309,
          13.332581711602705,
          16.126169018090977,
          6.075308451543346,
          9.323513015279143,
          14.611002204442457,
          24.420402113543567,
          19.462603619194628,
          8.547029251634113,
          5.046428951178347,
          7.9489313781805135,
          8.143726216004607,
          9.277538845949108,
          7.171810362942263,
          25.016373946844645,
          6.022566933798159,
          27.88570978990131,
          28.66538688942226,
          43.5715275302828,
          15.873247297720578,
          34.4744051764902,
          13.581060114608185,
          12.283186060438483,
          5.717728413970317,
          36.84852758731341,
          5.542909518691698,
          10.689052519251929,
          11.22510060887696,
          17.88040257858659,
          9.540054232337704,
          17.925313126117523,
          14.342487081075431,
          14.602973665975425,
          8.792221964018886,
          15.883081989855267,
          34.596389368856194,
          8.09652066074517,
          5.705790075872788,
          12.145852446977326,
          7.774275208204945,
          5.145080493763775,
          6.96517828650414,
          25.24315023507625,
          10.307454282228058,
          5.759421872517431,
          6.381690998806067,
          5.256932845343843,
          16.959095656948865,
          9.203450431391168,
          19.72836680401857,
          13.061830281229035,
          18.13658351608217,
          11.31789240283699,
          6.134678906693124,
          43.234501764998406,
          18.683548941686443,
          15.703954557520198,
          12.609978540713058,
          7.232209610634309,
          19.378228175412215,
          8.547029251634113,
          16.619879307249512,
          10.460927307587008,
          11.098980225201856,
          15.829810562390389,
          7.1929718020183975,
          16.460955518822658,
          10.833622545015047,
          15.029250604934132,
          19.551901504076913,
          28.370615223197362,
          6.054898518531491,
          17.710945336225205,
          22.611205736151835,
          7.471977183182497,
          28.286486424995797,
          13.574918822091934
         ]
        }
       ],
       "layout": {
        "legend": {
         "x": 0.5,
         "xanchor": "center",
         "y": 1.15,
         "yanchor": "top"
        },
        "template": {
         "data": {
          "bar": [
           {
            "error_x": {
             "color": "#2a3f5f"
            },
            "error_y": {
             "color": "#2a3f5f"
            },
            "marker": {
             "line": {
              "color": "white",
              "width": 0.5
             },
             "pattern": {
              "fillmode": "overlay",
              "size": 10,
              "solidity": 0.2
             }
            },
            "type": "bar"
           }
          ],
          "barpolar": [
           {
            "marker": {
             "line": {
              "color": "white",
              "width": 0.5
             },
             "pattern": {
              "fillmode": "overlay",
              "size": 10,
              "solidity": 0.2
             }
            },
            "type": "barpolar"
           }
          ],
          "carpet": [
           {
            "aaxis": {
             "endlinecolor": "#2a3f5f",
             "gridcolor": "#C8D4E3",
             "linecolor": "#C8D4E3",
             "minorgridcolor": "#C8D4E3",
             "startlinecolor": "#2a3f5f"
            },
            "baxis": {
             "endlinecolor": "#2a3f5f",
             "gridcolor": "#C8D4E3",
             "linecolor": "#C8D4E3",
             "minorgridcolor": "#C8D4E3",
             "startlinecolor": "#2a3f5f"
            },
            "type": "carpet"
           }
          ],
          "choropleth": [
           {
            "colorbar": {
             "outlinewidth": 0,
             "ticks": ""
            },
            "type": "choropleth"
           }
          ],
          "contour": [
           {
            "colorbar": {
             "outlinewidth": 0,
             "ticks": ""
            },
            "colorscale": [
             [
              0,
              "#0d0887"
             ],
             [
              0.1111111111111111,
              "#46039f"
             ],
             [
              0.2222222222222222,
              "#7201a8"
             ],
             [
              0.3333333333333333,
              "#9c179e"
             ],
             [
              0.4444444444444444,
              "#bd3786"
             ],
             [
              0.5555555555555556,
              "#d8576b"
             ],
             [
              0.6666666666666666,
              "#ed7953"
             ],
             [
              0.7777777777777778,
              "#fb9f3a"
             ],
             [
              0.8888888888888888,
              "#fdca26"
             ],
             [
              1,
              "#f0f921"
             ]
            ],
            "type": "contour"
           }
          ],
          "contourcarpet": [
           {
            "colorbar": {
             "outlinewidth": 0,
             "ticks": ""
            },
            "type": "contourcarpet"
           }
          ],
          "heatmap": [
           {
            "colorbar": {
             "outlinewidth": 0,
             "ticks": ""
            },
            "colorscale": [
             [
              0,
              "#0d0887"
             ],
             [
              0.1111111111111111,
              "#46039f"
             ],
             [
              0.2222222222222222,
              "#7201a8"
             ],
             [
              0.3333333333333333,
              "#9c179e"
             ],
             [
              0.4444444444444444,
              "#bd3786"
             ],
             [
              0.5555555555555556,
              "#d8576b"
             ],
             [
              0.6666666666666666,
              "#ed7953"
             ],
             [
              0.7777777777777778,
              "#fb9f3a"
             ],
             [
              0.8888888888888888,
              "#fdca26"
             ],
             [
              1,
              "#f0f921"
             ]
            ],
            "type": "heatmap"
           }
          ],
          "heatmapgl": [
           {
            "colorbar": {
             "outlinewidth": 0,
             "ticks": ""
            },
            "colorscale": [
             [
              0,
              "#0d0887"
             ],
             [
              0.1111111111111111,
              "#46039f"
             ],
             [
              0.2222222222222222,
              "#7201a8"
             ],
             [
              0.3333333333333333,
              "#9c179e"
             ],
             [
              0.4444444444444444,
              "#bd3786"
             ],
             [
              0.5555555555555556,
              "#d8576b"
             ],
             [
              0.6666666666666666,
              "#ed7953"
             ],
             [
              0.7777777777777778,
              "#fb9f3a"
             ],
             [
              0.8888888888888888,
              "#fdca26"
             ],
             [
              1,
              "#f0f921"
             ]
            ],
            "type": "heatmapgl"
           }
          ],
          "histogram": [
           {
            "marker": {
             "pattern": {
              "fillmode": "overlay",
              "size": 10,
              "solidity": 0.2
             }
            },
            "type": "histogram"
           }
          ],
          "histogram2d": [
           {
            "colorbar": {
             "outlinewidth": 0,
             "ticks": ""
            },
            "colorscale": [
             [
              0,
              "#0d0887"
             ],
             [
              0.1111111111111111,
              "#46039f"
             ],
             [
              0.2222222222222222,
              "#7201a8"
             ],
             [
              0.3333333333333333,
              "#9c179e"
             ],
             [
              0.4444444444444444,
              "#bd3786"
             ],
             [
              0.5555555555555556,
              "#d8576b"
             ],
             [
              0.6666666666666666,
              "#ed7953"
             ],
             [
              0.7777777777777778,
              "#fb9f3a"
             ],
             [
              0.8888888888888888,
              "#fdca26"
             ],
             [
              1,
              "#f0f921"
             ]
            ],
            "type": "histogram2d"
           }
          ],
          "histogram2dcontour": [
           {
            "colorbar": {
             "outlinewidth": 0,
             "ticks": ""
            },
            "colorscale": [
             [
              0,
              "#0d0887"
             ],
             [
              0.1111111111111111,
              "#46039f"
             ],
             [
              0.2222222222222222,
              "#7201a8"
             ],
             [
              0.3333333333333333,
              "#9c179e"
             ],
             [
              0.4444444444444444,
              "#bd3786"
             ],
             [
              0.5555555555555556,
              "#d8576b"
             ],
             [
              0.6666666666666666,
              "#ed7953"
             ],
             [
              0.7777777777777778,
              "#fb9f3a"
             ],
             [
              0.8888888888888888,
              "#fdca26"
             ],
             [
              1,
              "#f0f921"
             ]
            ],
            "type": "histogram2dcontour"
           }
          ],
          "mesh3d": [
           {
            "colorbar": {
             "outlinewidth": 0,
             "ticks": ""
            },
            "type": "mesh3d"
           }
          ],
          "parcoords": [
           {
            "line": {
             "colorbar": {
              "outlinewidth": 0,
              "ticks": ""
             }
            },
            "type": "parcoords"
           }
          ],
          "pie": [
           {
            "automargin": true,
            "type": "pie"
           }
          ],
          "scatter": [
           {
            "fillpattern": {
             "fillmode": "overlay",
             "size": 10,
             "solidity": 0.2
            },
            "type": "scatter"
           }
          ],
          "scatter3d": [
           {
            "line": {
             "colorbar": {
              "outlinewidth": 0,
              "ticks": ""
             }
            },
            "marker": {
             "colorbar": {
              "outlinewidth": 0,
              "ticks": ""
             }
            },
            "type": "scatter3d"
           }
          ],
          "scattercarpet": [
           {
            "marker": {
             "colorbar": {
              "outlinewidth": 0,
              "ticks": ""
             }
            },
            "type": "scattercarpet"
           }
          ],
          "scattergeo": [
           {
            "marker": {
             "colorbar": {
              "outlinewidth": 0,
              "ticks": ""
             }
            },
            "type": "scattergeo"
           }
          ],
          "scattergl": [
           {
            "marker": {
             "colorbar": {
              "outlinewidth": 0,
              "ticks": ""
             }
            },
            "type": "scattergl"
           }
          ],
          "scattermapbox": [
           {
            "marker": {
             "colorbar": {
              "outlinewidth": 0,
              "ticks": ""
             }
            },
            "type": "scattermapbox"
           }
          ],
          "scatterpolar": [
           {
            "marker": {
             "colorbar": {
              "outlinewidth": 0,
              "ticks": ""
             }
            },
            "type": "scatterpolar"
           }
          ],
          "scatterpolargl": [
           {
            "marker": {
             "colorbar": {
              "outlinewidth": 0,
              "ticks": ""
             }
            },
            "type": "scatterpolargl"
           }
          ],
          "scatterternary": [
           {
            "marker": {
             "colorbar": {
              "outlinewidth": 0,
              "ticks": ""
             }
            },
            "type": "scatterternary"
           }
          ],
          "surface": [
           {
            "colorbar": {
             "outlinewidth": 0,
             "ticks": ""
            },
            "colorscale": [
             [
              0,
              "#0d0887"
             ],
             [
              0.1111111111111111,
              "#46039f"
             ],
             [
              0.2222222222222222,
              "#7201a8"
             ],
             [
              0.3333333333333333,
              "#9c179e"
             ],
             [
              0.4444444444444444,
              "#bd3786"
             ],
             [
              0.5555555555555556,
              "#d8576b"
             ],
             [
              0.6666666666666666,
              "#ed7953"
             ],
             [
              0.7777777777777778,
              "#fb9f3a"
             ],
             [
              0.8888888888888888,
              "#fdca26"
             ],
             [
              1,
              "#f0f921"
             ]
            ],
            "type": "surface"
           }
          ],
          "table": [
           {
            "cells": {
             "fill": {
              "color": "#EBF0F8"
             },
             "line": {
              "color": "white"
             }
            },
            "header": {
             "fill": {
              "color": "#C8D4E3"
             },
             "line": {
              "color": "white"
             }
            },
            "type": "table"
           }
          ]
         },
         "layout": {
          "annotationdefaults": {
           "arrowcolor": "#2a3f5f",
           "arrowhead": 0,
           "arrowwidth": 1
          },
          "autotypenumbers": "strict",
          "coloraxis": {
           "colorbar": {
            "outlinewidth": 0,
            "ticks": ""
           }
          },
          "colorscale": {
           "diverging": [
            [
             0,
             "#8e0152"
            ],
            [
             0.1,
             "#c51b7d"
            ],
            [
             0.2,
             "#de77ae"
            ],
            [
             0.3,
             "#f1b6da"
            ],
            [
             0.4,
             "#fde0ef"
            ],
            [
             0.5,
             "#f7f7f7"
            ],
            [
             0.6,
             "#e6f5d0"
            ],
            [
             0.7,
             "#b8e186"
            ],
            [
             0.8,
             "#7fbc41"
            ],
            [
             0.9,
             "#4d9221"
            ],
            [
             1,
             "#276419"
            ]
           ],
           "sequential": [
            [
             0,
             "#0d0887"
            ],
            [
             0.1111111111111111,
             "#46039f"
            ],
            [
             0.2222222222222222,
             "#7201a8"
            ],
            [
             0.3333333333333333,
             "#9c179e"
            ],
            [
             0.4444444444444444,
             "#bd3786"
            ],
            [
             0.5555555555555556,
             "#d8576b"
            ],
            [
             0.6666666666666666,
             "#ed7953"
            ],
            [
             0.7777777777777778,
             "#fb9f3a"
            ],
            [
             0.8888888888888888,
             "#fdca26"
            ],
            [
             1,
             "#f0f921"
            ]
           ],
           "sequentialminus": [
            [
             0,
             "#0d0887"
            ],
            [
             0.1111111111111111,
             "#46039f"
            ],
            [
             0.2222222222222222,
             "#7201a8"
            ],
            [
             0.3333333333333333,
             "#9c179e"
            ],
            [
             0.4444444444444444,
             "#bd3786"
            ],
            [
             0.5555555555555556,
             "#d8576b"
            ],
            [
             0.6666666666666666,
             "#ed7953"
            ],
            [
             0.7777777777777778,
             "#fb9f3a"
            ],
            [
             0.8888888888888888,
             "#fdca26"
            ],
            [
             1,
             "#f0f921"
            ]
           ]
          },
          "colorway": [
           "#636efa",
           "#EF553B",
           "#00cc96",
           "#ab63fa",
           "#FFA15A",
           "#19d3f3",
           "#FF6692",
           "#B6E880",
           "#FF97FF",
           "#FECB52"
          ],
          "font": {
           "color": "#2a3f5f"
          },
          "geo": {
           "bgcolor": "white",
           "lakecolor": "white",
           "landcolor": "white",
           "showlakes": true,
           "showland": true,
           "subunitcolor": "#C8D4E3"
          },
          "hoverlabel": {
           "align": "left"
          },
          "hovermode": "closest",
          "mapbox": {
           "style": "light"
          },
          "paper_bgcolor": "white",
          "plot_bgcolor": "white",
          "polar": {
           "angularaxis": {
            "gridcolor": "#EBF0F8",
            "linecolor": "#EBF0F8",
            "ticks": ""
           },
           "bgcolor": "white",
           "radialaxis": {
            "gridcolor": "#EBF0F8",
            "linecolor": "#EBF0F8",
            "ticks": ""
           }
          },
          "scene": {
           "xaxis": {
            "backgroundcolor": "white",
            "gridcolor": "#DFE8F3",
            "gridwidth": 2,
            "linecolor": "#EBF0F8",
            "showbackground": true,
            "ticks": "",
            "zerolinecolor": "#EBF0F8"
           },
           "yaxis": {
            "backgroundcolor": "white",
            "gridcolor": "#DFE8F3",
            "gridwidth": 2,
            "linecolor": "#EBF0F8",
            "showbackground": true,
            "ticks": "",
            "zerolinecolor": "#EBF0F8"
           },
           "zaxis": {
            "backgroundcolor": "white",
            "gridcolor": "#DFE8F3",
            "gridwidth": 2,
            "linecolor": "#EBF0F8",
            "showbackground": true,
            "ticks": "",
            "zerolinecolor": "#EBF0F8"
           }
          },
          "shapedefaults": {
           "line": {
            "color": "#2a3f5f"
           }
          },
          "ternary": {
           "aaxis": {
            "gridcolor": "#DFE8F3",
            "linecolor": "#A2B1C6",
            "ticks": ""
           },
           "baxis": {
            "gridcolor": "#DFE8F3",
            "linecolor": "#A2B1C6",
            "ticks": ""
           },
           "bgcolor": "white",
           "caxis": {
            "gridcolor": "#DFE8F3",
            "linecolor": "#A2B1C6",
            "ticks": ""
           }
          },
          "title": {
           "x": 0.05
          },
          "xaxis": {
           "automargin": true,
           "gridcolor": "#EBF0F8",
           "linecolor": "#EBF0F8",
           "ticks": "",
           "title": {
            "standoff": 15
           },
           "zerolinecolor": "#EBF0F8",
           "zerolinewidth": 2
          },
          "yaxis": {
           "automargin": true,
           "gridcolor": "#EBF0F8",
           "linecolor": "#EBF0F8",
           "ticks": "",
           "title": {
            "standoff": 15
           },
           "zerolinecolor": "#EBF0F8",
           "zerolinewidth": 2
          }
         }
        },
        "title": {
         "text": "Actual vs Predicted Fare Amount (Limited to 150 Samples)"
        },
        "xaxis": {
         "title": {
          "text": "Sample Index"
         }
        },
        "yaxis": {
         "title": {
          "text": "Fare Amount ($)"
         }
        }
       }
      }
     },
     "metadata": {},
     "output_type": "display_data"
    }
   ],
   "source": [
    "import pandas as pd\n",
    "import numpy as np\n",
    "from sklearn.metrics import r2_score, mean_absolute_error, mean_squared_error\n",
    "import plotly.graph_objects as go\n",
    "\n",
    "# Calculate Model Accuracy Metrics\n",
    "mae = mean_absolute_error(y_test, y_pred)\n",
    "rmse = np.sqrt(mean_squared_error(y_test, y_pred))\n",
    "r2 = r2_score(y_test, y_pred)\n",
    "\n",
    "print(f\"Model Accuracy Metrics:\")\n",
    "print(f\"Mean Absolute Error (MAE): {mae:.2f}\")\n",
    "print(f\"Root Mean Squared Error (RMSE): {rmse:.2f}\")\n",
    "print(f\"R-squared (Accuracy): {r2:.2f}\")\n",
    "\n",
    "# Limit data to 150 samples for visualization\n",
    "samples_to_plot = 150\n",
    "y_test_limited = y_test[:samples_to_plot].reset_index(drop=True)\n",
    "y_pred_limited = y_pred[:samples_to_plot]\n",
    "\n",
    "# Create Line Chart with Plotly\n",
    "fig = go.Figure()\n",
    "\n",
    "# Actual Values\n",
    "fig.add_trace(go.Scatter(\n",
    "    x=y_test_limited.index, \n",
    "    y=y_test_limited, \n",
    "    mode=\"lines+markers\", \n",
    "    name=\"Actual\",\n",
    "    line=dict(color=\"blue\")\n",
    "))\n",
    "\n",
    "# Predicted Values\n",
    "fig.add_trace(go.Scatter(\n",
    "    x=y_test_limited.index, \n",
    "    y=y_pred_limited, \n",
    "    mode=\"lines+markers\", \n",
    "    name=\"Predicted\",\n",
    "    line=dict(color=\"orange\")\n",
    "))\n",
    "\n",
    "# Customize Layout\n",
    "fig.update_layout(\n",
    "    title=\"Actual vs Predicted Fare Amount (Limited to 150 Samples)\",\n",
    "    xaxis_title=\"Sample Index\",\n",
    "    yaxis_title=\"Fare Amount ($)\",\n",
    "    legend=dict(x=0.5, y=1.15, xanchor=\"center\", yanchor=\"top\"),\n",
    "    template=\"plotly_white\"\n",
    ")\n",
    "\n",
    "# Show the plot\n",
    "fig.show()\n"
   ]
  },
  {
   "cell_type": "code",
   "execution_count": null,
   "metadata": {},
   "outputs": [],
   "source": [
    "param_grid = {\n",
    "    \"n_estimators\": [300, 500, 700],\n",
    "    \"learning_rate\": [0.01, 0.05, 0.1],\n",
    "    \"max_depth\": [3, 5, 7],\n",
    "    \"min_samples_split\": [2, 5, 10],\n",
    "    \"min_samples_leaf\": [1, 2, 4],\n",
    "    \"subsample\": [0.6, 0.8, 1.0]\n",
    "}\n",
    "\n",
    "# Perform grid search\n",
    "from sklearn.model_selection import GridSearchCV\n",
    "from sklearn.ensemble import GradientBoostingRegressor\n",
    "\n",
    "grid_search = GridSearchCV(\n",
    "    estimator=GradientBoostingRegressor(),\n",
    "    param_grid=param_grid,\n",
    "    cv=5,  # 5-fold cross-validation\n",
    "    scoring=\"r2\",  # Optimize for R-squared\n",
    "    verbose=2\n",
    ")\n",
    "\n",
    "grid_search.fit(X_train, y_train)\n",
    "print(\"Best Parameters:\", grid_search.best_params_)\n",
    "print(\"Best R2 Score:\", grid_search.best_score_)\n"
   ]
  },
  {
   "cell_type": "code",
   "execution_count": null,
   "metadata": {},
   "outputs": [],
   "source": [
    "from data import *\n",
    "\n",
    "cacheSql(DAILY_AVGS, DAILY_AVGS_CACHE, GREEN)\n",
    "cacheSql(HOURLY_AVGS, HOURLY_AVGS_CACHE, GREEN)\n",
    "cacheSql(DAILY_AVGS, DAILY_AVGS_CACHE, YELLOW)\n",
    "cacheSql(HOURLY_AVGS, HOURLY_AVGS_CACHE, YELLOW)"
   ]
  },
  {
   "cell_type": "code",
   "execution_count": null,
   "metadata": {},
   "outputs": [],
   "source": [
    "from data import *\n",
    "from lib import *\n",
    "\n",
    "# getBoxPlotData(GREEN)\n",
    "data = loadObject(f'{GREEN}_{BOX_PLOT_CACHE}', 'cache')\n",
    "data.keys()\n",
    "\n"
   ]
  },
  {
   "cell_type": "code",
   "execution_count": null,
   "metadata": {},
   "outputs": [],
   "source": [
    "import pandas as pd\n",
    "import plotly.graph_objects as go\n",
    "import streamlit as st\n",
    "\n",
    "from data import *\n",
    "\n",
    "color_list = [\"red\", \"blue\", \"green\", \"yellow\", \"orange\", \"purple\", \"pink\"]\n",
    "\n",
    "def plotByDayOfWeek(data, category, x_fld, y_fld):\n",
    "    fig = go.Figure()\n",
    "\n",
    "    for ind, d in enumerate(data[category].unique()):\n",
    "        d_data = data[data[category] == d]\n",
    "        # data.reset_index(inplace=True)\n",
    "        fig.add_trace(go.Scatter(\n",
    "            x=d_data[x_fld],  # Use the DataFrame index for the x-axis\n",
    "            y=d_data[y_fld],\n",
    "            mode=\"lines+markers\",\n",
    "            name=f\"{d} {y_fld}\",\n",
    "            line=dict(color=color_list[ind]),\n",
    "            marker=dict(size=6)\n",
    "        ))\n",
    "        \n",
    "\n",
    "    # Update layout\n",
    "    fig.update_layout(\n",
    "        title=f\"{y_fld} by {category}\",\n",
    "        xaxis_title=x_fld,\n",
    "        yaxis_title=y_fld,\n",
    "        xaxis=dict(showgrid=True),\n",
    "        yaxis=dict(showgrid=True),\n",
    "        template=\"plotly_white\",\n",
    "        height=1000\n",
    "    )\n",
    "    \n",
    "    fig.show()\n",
    "\n",
    "\n",
    "# get data\n",
    "# df = getCachedSql(DAILY_AVGS_CACHE, YELLOW)\n",
    "df = getCachedSql(HOURLY_AVGS_CACHE, YELLOW)\n",
    "plotByDayOfWeek(df, 'time_of_day', 'hour', 'avg_total_amount')"
   ]
  },
  {
   "cell_type": "code",
   "execution_count": null,
   "metadata": {},
   "outputs": [],
   "source": [
    "import pandas as pd\n",
    "import plotly.graph_objects as go\n",
    "import streamlit as st\n",
    "\n",
    "from data import *\n",
    "\n",
    "color_list = [\"red\", \"blue\", \"green\", \"yellow\", \"orange\", \"purple\", \"pink\"]\n",
    "\n",
    "def plotByDayOfWeek(data):\n",
    "    fig = go.Figure()\n",
    "\n",
    "    for ind, d in enumerate(data[\"day_of_week\"].unique()):\n",
    "        d_data = data[data[\"day_of_week\"] == d]\n",
    "        # data.reset_index(inplace=True)\n",
    "        fig.add_trace(go.Scatter(\n",
    "            x=d_data['day'],  # Use the DataFrame index for the x-axis\n",
    "            y=d_data[\"trip_count\"],\n",
    "            mode=\"lines+markers\",\n",
    "            name=f\"{d} Avg Tips\",\n",
    "            line=dict(color=color_list[ind]),\n",
    "            marker=dict(size=6)\n",
    "        ))\n",
    "        \n",
    "\n",
    "    # Update layout\n",
    "    fig.update_layout(\n",
    "        title=\"Average Tip Amount VS Day of Week\",\n",
    "        xaxis_title=\"Days\",\n",
    "        yaxis_title=\"Average Tip Amount ($)\",\n",
    "        xaxis=dict(showgrid=True),\n",
    "        yaxis=dict(showgrid=True),\n",
    "        template=\"plotly_white\",\n",
    "        height=1000\n",
    "    )\n",
    "    \n",
    "    # Display the plot in Streamlit\n",
    "    # st.plotly_chart(fig, use_container_width=True)\n",
    "    fig.show()\n",
    "\n",
    "\n",
    "# get data\n",
    "df = getCachedSql(DAILY_AVGS_CACHE, YELLOW)\n",
    "# call plot_avg_tip_by_day_of_week(data)\n",
    "plotByDayOfWeek(df)"
   ]
  }
 ],
 "metadata": {
  "kernelspec": {
   "display_name": "Python 3",
   "language": "python",
   "name": "python3"
  },
  "language_info": {
   "codemirror_mode": {
    "name": "ipython",
    "version": 3
   },
   "file_extension": ".py",
   "mimetype": "text/x-python",
   "name": "python",
   "nbconvert_exporter": "python",
   "pygments_lexer": "ipython3",
   "version": "3.9.6"
  }
 },
 "nbformat": 4,
 "nbformat_minor": 2
}
