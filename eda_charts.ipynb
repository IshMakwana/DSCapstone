{
 "cells": [
  {
   "cell_type": "code",
   "execution_count": null,
   "metadata": {},
   "outputs": [],
   "source": [
    "import matplotlib.pyplot as plt\n",
    "import numpy as np\n",
    "import pandas as pd\n",
    "from sqlalchemy.sql import text\n",
    "from lib import Output, TaxiDBReader, GREEN, YELLOW, TABLES, tabulate, CHUNK_SIZE, TABLE_FORMAT, SEPARATOR\n",
    "\n",
    "O = Output('output/chart_output.txt') \n",
    "    \n",
    "O.clear()\n",
    "O.out(SEPARATOR)\n",
    "O.out('Priliminary Viz (charts)')\n",
    "O.out(SEPARATOR)\n",
    "dr = TaxiDBReader()\n",
    "\n",
    "# Example data (replace these with your actual data)\n",
    "# distance = [1.2, 3.5, 7.8, 2.5, 4.6, 5.9, 6.1, 7.3, 2.2, 3.1]  # Distance data\n",
    "# passenger_count = [1, 2, 2, 3, 1, 5, 1, 2, 1, 4]  # Passenger count data\n",
    "# cost = [10.5, 15.7, 22.1, 12.8, 18.3, 24.0, 19.5, 21.2, 13.1, 16.8]  # Cost data\n"
   ]
  },
  {
   "cell_type": "code",
   "execution_count": null,
   "metadata": {},
   "outputs": [],
   "source": [
    "dr.setTable(year=2023, taxi_type=GREEN)\n",
    "table_name = dr.getTableName()\n",
    "\n",
    "def getDF(sql):\n",
    "    with dr.engn.connect() as conn:\n",
    "        return pd.read_sql(sql, conn)\n",
    "\n",
    "sql = text(f'''\n",
    "SELECT pu_location_id, do_location_id, f_trip_distance, f_passenger_count, f_total_amount, f_fare_amount, \n",
    "    (unixepoch(dropoff_datetime)-unixepoch(pickup_datetime)) as trip_duration\n",
    "           FROM {table_name}\n",
    "WHERE f_trip_distance > 0 AND f_trip_distance < 20 \n",
    "    AND f_passenger_count > 0 \n",
    "    AND f_total_amount > 0 AND f_total_amount <= 100\n",
    "    AND f_fare_amount > 0\n",
    "    AND trip_duration <= 7200\n",
    "''')\n",
    "\n",
    "df = getDF(sql)"
   ]
  },
  {
   "cell_type": "code",
   "execution_count": null,
   "metadata": {},
   "outputs": [],
   "source": [
    "# histograms\n",
    "\n",
    "def get_cmap(n, name='hsv'):\n",
    "    '''Returns a function that maps each index in 0, 1, ..., n-1 to a distinct \n",
    "    RGB color; the keyword argument name must be a standard mpl colormap name.'''\n",
    "    return plt.cm.get_cmap(name, n)\n",
    "\n",
    "columns = ['f_trip_distance', 'f_passenger_count', 'f_total_amount', 'f_fare_amount']\n",
    "cmap = get_cmap(len(columns) + 1)\n",
    "\n",
    "for i, c in enumerate(columns):\n",
    "    plt.figure(figsize=(16,9))\n",
    "    plt.hist(df[c], bins=10, range=(df[c].min(), df[c].max()), color=cmap(i))\n",
    "    plt.xlabel(c)\n",
    "    plt.ylabel('Frequency')\n",
    "    plt.show()\n",
    "\n",
    "    print(f'column: {c}, min: {df[c].min()}, max: {df[c].max()}')"
   ]
  },
  {
   "cell_type": "code",
   "execution_count": null,
   "metadata": {},
   "outputs": [],
   "source": [
    "# scatter plots\n",
    "\n",
    "columns = [\n",
    "    ('trip_duration', 'f_total_amount'), \n",
    "    ('f_trip_distance', 'f_total_amount'), \n",
    "    ]\n",
    "for i, ctuple in enumerate(columns):\n",
    "    plt.figure(figsize=(16,9))\n",
    "    xc, yc = ctuple\n",
    "    plt.scatter(df[xc], df[yc], color=cmap(i), alpha=0.7)\n",
    "    plt.xlabel(xc)\n",
    "    plt.ylabel(yc)\n",
    "    plt.show()\n"
   ]
  },
  {
   "cell_type": "code",
   "execution_count": null,
   "metadata": {},
   "outputs": [],
   "source": [
    "# box plots \n",
    "columns = ['f_trip_distance', 'f_passenger_count', 'f_total_amount', 'f_fare_amount', 'trip_duration']\n",
    "cmap = get_cmap(len(columns) + 1)\n",
    "\n",
    "box_plot_data = []\n",
    "for i, c in enumerate(columns):\n",
    "\n",
    "    plt.figure(figsize=(3,6))\n",
    "    box_plot = plt.boxplot(df[c], patch_artist=True, labels=[c])\n",
    "\n",
    "    for patch in box_plot['boxes']:\n",
    "        patch.set_facecolor(cmap(i))\n",
    "\n",
    "    plt.grid()\n",
    "    plt.show()\n"
   ]
  },
  {
   "cell_type": "code",
   "execution_count": null,
   "metadata": {},
   "outputs": [],
   "source": []
  }
 ],
 "metadata": {
  "kernelspec": {
   "display_name": "Python 3",
   "language": "python",
   "name": "python3"
  },
  "language_info": {
   "codemirror_mode": {
    "name": "ipython",
    "version": 3
   },
   "file_extension": ".py",
   "mimetype": "text/x-python",
   "name": "python",
   "nbconvert_exporter": "python",
   "pygments_lexer": "ipython3",
   "version": "3.10.6"
  }
 },
 "nbformat": 4,
 "nbformat_minor": 2
}
