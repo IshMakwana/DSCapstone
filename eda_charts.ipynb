{
 "cells": [
  {
   "cell_type": "code",
   "execution_count": 53,
   "metadata": {},
   "outputs": [
    {
     "name": "stdout",
     "output_type": "stream",
     "text": [
      "sql engine ready\n"
     ]
    }
   ],
   "source": [
    "import matplotlib.pyplot as plt\n",
    "import numpy as np\n",
    "import pandas as pd\n",
    "from sqlalchemy.sql import text\n",
    "from lib import Output, TaxiDBReader, GREEN, YELLOW, TABLES, tabulate, CHUNK_SIZE, TABLE_FORMAT, SEPARATOR\n",
    "\n",
    "O = Output('output/chart_output.txt') \n",
    "    \n",
    "O.clear()\n",
    "O.out(SEPARATOR)\n",
    "O.out('Priliminary Viz (charts)')\n",
    "O.out(SEPARATOR)\n",
    "dr = TaxiDBReader()\n",
    "\n",
    "# Example data (replace these with your actual data)\n",
    "# distance = [1.2, 3.5, 7.8, 2.5, 4.6, 5.9, 6.1, 7.3, 2.2, 3.1]  # Distance data\n",
    "# passenger_count = [1, 2, 2, 3, 1, 5, 1, 2, 1, 4]  # Passenger count data\n",
    "# cost = [10.5, 15.7, 22.1, 12.8, 18.3, 24.0, 19.5, 21.2, 13.1, 16.8]  # Cost data\n"
   ]
  },
  {
   "cell_type": "code",
   "execution_count": 58,
   "metadata": {},
   "outputs": [],
   "source": [
    "dr.setTable(year=2023, taxi_type=GREEN)\n",
    "table_name = dr.getTableName()\n",
    "\n",
    "def getDF(sql):\n",
    "    with dr.engn.connect() as conn:\n",
    "        return pd.read_sql(sql, conn)\n",
    "\n",
    "sql = text(f'''\n",
    "SELECT pu_location_id, do_location_id, f_trip_distance, f_passenger_count, f_total_amount, f_fare_amount FROM {table_name}\n",
    "WHERE f_trip_distance > 0 AND f_trip_distance < 20 AND f_passenger_count > 0 AND f_total_amount > 0\n",
    "''')\n",
    "\n",
    "df = getDF(sql)"
   ]
  },
  {
   "cell_type": "code",
   "execution_count": 60,
   "metadata": {},
   "outputs": [
    {
     "name": "stdout",
     "output_type": "stream",
     "text": [
      "column: f_trip_distance, min: 0.01, max: 19.99\n",
      "column: f_passenger_count, min: 1, max: 9\n",
      "column: f_total_amount, min: 0.01, max: 1025.8\n",
      "column: f_fare_amount, min: -14.72, max: 1024.3\n"
     ]
    }
   ],
   "source": [
    "columns = ['f_trip_distance', 'f_passenger_count', 'f_total_amount', 'f_fare_amount']\n",
    "for c in columns:\n",
    "    # plt.hist(df[c], bins=10, range=(df[c].min(), df[c].max()))\n",
    "    # plt.xlabel(c)\n",
    "    # plt.ylabel('Frequency')\n",
    "    # plt.show()\n",
    "\n",
    "    print(f'column: {c}, min: {df[c].min()}, max: {df[c].max()}')"
   ]
  },
  {
   "cell_type": "code",
   "execution_count": 62,
   "metadata": {},
   "outputs": [],
   "source": [
    "sql = text(f'''\n",
    "SELECT pickup_datetime, dropoff_datetime, f_trip_distance, f_passenger_count, f_total_amount, f_fare_amount FROM {table_name}\n",
    "WHERE f_total_amount > 100 and f_trip_distance < 20\n",
    "''')\n",
    "\n",
    "df = getDF(sql)\n",
    "O.clear()\n",
    "O.out(df, True, 200)"
   ]
  }
 ],
 "metadata": {
  "kernelspec": {
   "display_name": "Python 3",
   "language": "python",
   "name": "python3"
  },
  "language_info": {
   "codemirror_mode": {
    "name": "ipython",
    "version": 3
   },
   "file_extension": ".py",
   "mimetype": "text/x-python",
   "name": "python",
   "nbconvert_exporter": "python",
   "pygments_lexer": "ipython3",
   "version": "3.10.6"
  }
 },
 "nbformat": 4,
 "nbformat_minor": 2
}
