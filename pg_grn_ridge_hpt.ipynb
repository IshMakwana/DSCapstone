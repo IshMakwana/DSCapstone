{
 "cells": [
  {
   "cell_type": "code",
   "execution_count": 1,
   "metadata": {},
   "outputs": [
    {
     "name": "stdout",
     "output_type": "stream",
     "text": [
      "sql engine ready\n",
      "Fitting 3 folds for each of 25 candidates, totalling 75 fits\n",
      "Best Parameters: {'tol': 0.001, 'solver': 'cholesky', 'alpha': 0.001}\n",
      "Best Score: -7.9975353516273655\n"
     ]
    }
   ],
   "source": [
    "from data import *\n",
    "from model import *\n",
    "from sklearn.linear_model import Ridge\n",
    "\n",
    "taxi_type = GREEN\n",
    "train_sql = getSqlForModeling(taxi_type, isTrain=True)\n",
    "\n",
    "df = getDF(train_sql)\n",
    "X_train, y_train = df[FEATURES], df[VARIABLE]\n",
    "\n",
    "from sklearn.ensemble import RandomForestRegressor\n",
    "from sklearn.model_selection import RandomizedSearchCV\n",
    "\n",
    "# Define parameter grid\n",
    "param_dist = {\n",
    "    \"alpha\": np.logspace(-3, 3, 50),  # Explore a wide range of alpha values\n",
    "    \"solver\": [\"auto\", \"svd\", \"cholesky\"],  # Solver options\n",
    "    # \"fit_intercept\": [True, False],  # Whether to fit intercept\n",
    "    # \"max_iter\": [1000, 5000],  # Maximum number of iterations\n",
    "    \"tol\": [1e-3, 1e-4]  # Tolerance for stopping criteria\n",
    "}\n",
    "\n",
    "\n",
    "# Model and Randomized Search\n",
    "gbm = Ridge()\n",
    "random_search = RandomizedSearchCV(estimator=gbm, param_distributions=param_dist, n_iter=25, cv=3, scoring=\"neg_mean_squared_error\", verbose=1)\n",
    "random_search.fit(X_train, y_train)\n",
    "\n",
    "print(\"Best Parameters:\", random_search.best_params_)\n",
    "print(\"Best Score:\", random_search.best_score_)\n"
   ]
  }
 ],
 "metadata": {
  "kernelspec": {
   "display_name": "Python 3",
   "language": "python",
   "name": "python3"
  },
  "language_info": {
   "codemirror_mode": {
    "name": "ipython",
    "version": 3
   },
   "file_extension": ".py",
   "mimetype": "text/x-python",
   "name": "python",
   "nbconvert_exporter": "python",
   "pygments_lexer": "ipython3",
   "version": "3.9.6"
  }
 },
 "nbformat": 4,
 "nbformat_minor": 2
}
