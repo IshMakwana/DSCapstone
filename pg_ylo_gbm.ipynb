{
 "cells": [
  {
   "cell_type": "code",
   "execution_count": null,
   "metadata": {},
   "outputs": [
    {
     "name": "stdout",
     "output_type": "stream",
     "text": [
      "sql engine ready\n"
     ]
    }
   ],
   "source": [
    "from sklearn.ensemble import GradientBoostingRegressor\n",
    "from data import *\n",
    "from model import *\n",
    "\n",
    "taxi_type = YELLOW\n",
    "train_sql = getSqlForModeling(taxi_type, isTrain=True)\n",
    "test_sql = getSqlForModeling(taxi_type, isTrain=False)\n",
    "\n",
    "\n",
    "\n",
    "model = GradientBoostingRegressor(n_estimators=500, \n",
    "                                  learning_rate=0.1, \n",
    "                                  max_depth=3,\n",
    "                                  validation_fraction=0.1, \n",
    "                                  n_iter_no_change=10)\n",
    "\n",
    "# Training\n",
    "with DR.engn.connect() as conn:\n",
    "    processed = 0\n",
    "    for df in pd.read_sql(train_sql, conn, chunksize=CHUNK_SIZE):\n",
    "        processed += len(df)\n",
    "        X = df[FEATURES]\n",
    "        y = df[VARIABLE]\n",
    "\n",
    "        model.fit(X, y)\n",
    "        O.out(f'Trained {processed} rows')\n",
    "\n",
    "# Predictions\n",
    "with DR.engn.connect() as conn:\n",
    "    processed = 0\n",
    "    y_test = []\n",
    "    y_pred = []\n",
    "    for df in pd.read_sql(test_sql, conn, chunksize=CHUNK_SIZE):\n",
    "        processed += len(df)\n",
    "        X = df[FEATURES]\n",
    "        y_test.append(df[VARIABLE])\n",
    "\n",
    "        y_pred.append(model.predict(X))\n",
    "        O.out(f'Predicted {processed} rows')\n",
    "\n",
    "# Performance\n",
    "merged_y_test = pd.concat(y_test, ignore_index=True)\n",
    "merged_y_pred = np.concatenate(y_pred)\n",
    "\n",
    "showPerformance(merged_y_test, merged_y_pred)"
   ]
  }
 ],
 "metadata": {
  "kernelspec": {
   "display_name": "Python 3",
   "language": "python",
   "name": "python3"
  },
  "language_info": {
   "codemirror_mode": {
    "name": "ipython",
    "version": 3
   },
   "file_extension": ".py",
   "mimetype": "text/x-python",
   "name": "python",
   "nbconvert_exporter": "python",
   "pygments_lexer": "ipython3",
   "version": "3.9.6"
  }
 },
 "nbformat": 4,
 "nbformat_minor": 2
}
