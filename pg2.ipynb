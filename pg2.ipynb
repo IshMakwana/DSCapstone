{
 "cells": [
  {
   "cell_type": "code",
   "execution_count": 1,
   "metadata": {},
   "outputs": [
    {
     "name": "stdout",
     "output_type": "stream",
     "text": [
      "sql engine ready\n"
     ]
    }
   ],
   "source": [
    "from lib import *\n",
    "from model import *\n",
    "buildAndStoreModel_lr(YELLOW, FEATURES, VARIABLE, COMMON_FETCH_COLUMNS)"
   ]
  },
  {
   "cell_type": "code",
   "execution_count": null,
   "metadata": {},
   "outputs": [
    {
     "name": "stdout",
     "output_type": "stream",
     "text": [
      "sql engine ready\n"
     ]
    }
   ],
   "source": [
    "from lib import *\n",
    "from model import *\n",
    "buildAndStoreModel_rfr(YELLOW, FEATURES, VARIABLE, COMMON_FETCH_COLUMNS)"
   ]
  }
 ],
 "metadata": {
  "kernelspec": {
   "display_name": "Python 3",
   "language": "python",
   "name": "python3"
  },
  "language_info": {
   "codemirror_mode": {
    "name": "ipython",
    "version": 3
   },
   "file_extension": ".py",
   "mimetype": "text/x-python",
   "name": "python",
   "nbconvert_exporter": "python",
   "pygments_lexer": "ipython3",
   "version": "3.9.6"
  }
 },
 "nbformat": 4,
 "nbformat_minor": 2
}
