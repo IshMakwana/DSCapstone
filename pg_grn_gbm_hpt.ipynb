{
 "cells": [
  {
   "cell_type": "code",
   "execution_count": null,
   "metadata": {},
   "outputs": [
    {
     "name": "stdout",
     "output_type": "stream",
     "text": [
      "sql engine ready\n",
      "Fitting 3 folds for each of 25 candidates, totalling 75 fits\n"
     ]
    }
   ],
   "source": [
    "from data import *\n",
    "from model import *\n",
    "\n",
    "taxi_type = GREEN\n",
    "test_sql = getSqlForModeling(taxi_type, isTrain=True)\n",
    "\n",
    "df = getDF(test_sql)\n",
    "X_train, y_train = df[FEATURES], df[VARIABLE]\n",
    "\n",
    "from sklearn.ensemble import GradientBoostingRegressor\n",
    "from sklearn.model_selection import RandomizedSearchCV\n",
    "\n",
    "# Define parameter grid\n",
    "param_dist = {\n",
    "    \"n_estimators\": [900, 1000, 1100],\n",
    "    \"learning_rate\": [0.01, 0.1, 0.5],\n",
    "    \"max_depth\": [7, 9, 11],\n",
    "    \"subsample\": [0.8, 1.0],\n",
    "}\n",
    "\n",
    "# Model and Randomized Search\n",
    "gbm = GradientBoostingRegressor()\n",
    "random_search = RandomizedSearchCV(estimator=gbm, param_distributions=param_dist, n_iter=25, cv=3, scoring=\"neg_mean_squared_error\", verbose=1)\n",
    "random_search.fit(X_train, y_train)\n",
    "\n",
    "print(\"Best Parameters:\", random_search.best_params_)\n",
    "print(\"Best Score:\", random_search.best_score_)\n"
   ]
  }
 ],
 "metadata": {
  "kernelspec": {
   "display_name": "Python 3",
   "language": "python",
   "name": "python3"
  },
  "language_info": {
   "codemirror_mode": {
    "name": "ipython",
    "version": 3
   },
   "file_extension": ".py",
   "mimetype": "text/x-python",
   "name": "python",
   "nbconvert_exporter": "python",
   "pygments_lexer": "ipython3",
   "version": "3.9.6"
  }
 },
 "nbformat": 4,
 "nbformat_minor": 2
}
