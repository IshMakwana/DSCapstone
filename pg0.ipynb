{
 "cells": [
  {
   "cell_type": "code",
   "execution_count": 30,
   "metadata": {},
   "outputs": [],
   "source": [
    "def getTripFareEst(pu_location_id, do_location_id, time_of_day):\n",
    "    data = {}\n",
    "    for tt in [GREEN, YELLOW]:\n",
    "        df = getCachedSql(PU_DO_TIME_AVGS_CACHE, tt)\n",
    "    \n",
    "        df = df.groupby([\"pu_location_id\", \"do_location_id\", \"time_of_day\"])['avg_fare_amount'].mean().reset_index()\n",
    "        df = df[(df['pu_location_id'] == pu_location_id )\n",
    "                            & (df['do_location_id'] == do_location_id )\n",
    "                            & (df['time_of_day'] == time_of_day )]\n",
    "        \n",
    "        data[tt] = df\n",
    "        print(df)\n",
    "\n",
    "    if len(data[GREEN]) == 0 and len(data[YELLOW]) == 0:\n",
    "        return '''\n",
    "            Neither Green nor Yellow taxis are available for such trips. \n",
    "        '''\n",
    "    elif len(data[GREEN]) == 0:\n",
    "        yfa = data[YELLOW]['avg_fare_amount'].iloc[0]\n",
    "        return f'''\n",
    "            Yellow Taxis will be available for this trip.\n",
    "            Expect the fare amount to be ~{yfa:.2f}\n",
    "        '''\n",
    "    elif len(data[YELLOW]) == 0:\n",
    "        gfa = data[GREEN]['avg_fare_amount'].iloc[0]\n",
    "        return f'''\n",
    "            Green Taxis will be available for this trip.\n",
    "            Expect the fare amount to be ~{gfa:.2f}\n",
    "        '''\n",
    "    else:\n",
    "        gfa = data[GREEN]['avg_fare_amount'].iloc[0]\n",
    "        yfa = data[YELLOW]['avg_fare_amount'].iloc[0]\n",
    "        if gfa < yfa:\n",
    "            return f'''\n",
    "                Green Taxis should be preferred over Yellow for this trip as they offer lower fares.\n",
    "                Expect the fare amount to be ~{gfa:.2f}\n",
    "            '''\n",
    "        else:\n",
    "            return f'''\n",
    "                Yellow Taxis should be preferred over Green for this trip as they offer lower fares.\n",
    "                Expect the fare amount to be ~{yfa:.2f}\n",
    "            '''\n",
    "    "
   ]
  },
  {
   "cell_type": "code",
   "execution_count": 38,
   "metadata": {},
   "outputs": [
    {
     "name": "stdout",
     "output_type": "stream",
     "text": [
      "pu: 231, do: 80\n",
      "Empty DataFrame\n",
      "Columns: [pu_location_id, do_location_id, time_of_day, avg_fare_amount]\n",
      "Index: []\n",
      "        pu_location_id  do_location_id time_of_day  avg_fare_amount\n",
      "117370             231              80     Morning        21.519265\n"
     ]
    },
    {
     "data": {
      "text/plain": [
       "'\\n            Yellow Taxis will be available for this trip.\\n            Expect the fare amount to be ~21.52\\n        '"
      ]
     },
     "execution_count": 38,
     "metadata": {},
     "output_type": "execute_result"
    }
   ],
   "source": [
    "import random\n",
    "\n",
    "pu, do = random.randint(1, 250), random.randint(1, 250)\n",
    "\n",
    "print(f'pu: {pu}, do: {do}')\n",
    "\n",
    "getTripFareEst(pu, do, 'Morning')\n"
   ]
  },
  {
   "cell_type": "code",
   "execution_count": null,
   "metadata": {},
   "outputs": [],
   "source": [
    "from model import *\n",
    "from sklearn.ensemble import GradientBoostingRegressor\n",
    "from xgboost import XGBRegressor\n",
    "from lightgbm import LGBMRegressor\n",
    "from sklearn.linear_model import Ridge\n",
    "from tensorflow.keras.models import Sequential\n",
    "from tensorflow.keras.layers import Dense, Dropout\n",
    "from sklearn.preprocessing import StandardScaler\n",
    "from tensorflow.keras.callbacks import EarlyStopping\n",
    "\n",
    "LINEAR_REGRESSION = 'linear_regression'\n",
    "RANDOM_FOREST = 'random_forest'\n",
    "GRADIENT_BOOST = 'gradient_boost'\n",
    "XGB_REGRESSOR = 'xgb_regressor'\n",
    "LIGHT_GBM_REGRESSOR = 'light_gbm_regressor'\n",
    "RIDGE = 'ridge'\n",
    "NEURAL_NETWORK = 'neural_network'\n",
    "\n",
    "# model list = list of tuples (name, features, variable, suffix)\n",
    "model_list = [\n",
    "    (LINEAR_REGRESSION, FEATURES, VARIABLE, ''),\n",
    "    (RANDOM_FOREST, FEATURES, VARIABLE, ''),\n",
    "    (GRADIENT_BOOST, FEATURES, VARIABLE, ''),\n",
    "    (XGB_REGRESSOR, FEATURES, VARIABLE, ''),\n",
    "    (LIGHT_GBM_REGRESSOR, FEATURES, VARIABLE, ''),\n",
    "    (RIDGE, FEATURES, VARIABLE, ''),\n",
    "    (NEURAL_NETWORK, FEATURES, VARIABLE, ''),\n",
    "]\n",
    "\n",
    "def initModel(model_name, features):\n",
    "    if model_name == LINEAR_REGRESSION:\n",
    "        return LinearRegression()\n",
    "    elif model_name == RANDOM_FOREST:\n",
    "        return RandomForestRegressor(n_estimators=100, max_depth=10, random_state=42)\n",
    "    elif model_name == GRADIENT_BOOST:\n",
    "        return GradientBoostingRegressor(n_estimators=500, \n",
    "                                        learning_rate=0.1,\n",
    "                                        n_iter_no_change=10, \n",
    "                                        max_depth=3, \n",
    "                                        random_state=42)\n",
    "    elif model_name == XGB_REGRESSOR:\n",
    "        return XGBRegressor(n_estimators=1000, \n",
    "                            learning_rate=0.1, \n",
    "                            n_iter_no_change=10,\n",
    "                            max_depth=9)\n",
    "    elif model_name == LIGHT_GBM_REGRESSOR:\n",
    "        return LGBMRegressor(n_estimators=1000, \n",
    "                            learning_rate=0.5, \n",
    "                            max_depth=9)\n",
    "    elif model_name == RIDGE:\n",
    "        return Ridge(alpha=1, solver='auto')\n",
    "    elif model_name == NEURAL_NETWORK:\n",
    "        model = Sequential([\n",
    "            Dense(64, input_dim=len(features), activation=\"relu\"),  # Input layer + first hidden layer\n",
    "            Dropout(0.2),  # Dropout for regularization\n",
    "            Dense(32, activation=\"relu\"),  # Second hidden layer\n",
    "            Dropout(0.2),  # Dropout for regularization\n",
    "            Dense(16, activation=\"relu\"),  # Third hidden layer\n",
    "            Dense(1)  # Output layer for regression\n",
    "        ])\n",
    "\n",
    "        # Compile the model\n",
    "        model.compile(optimizer=\"adam\", loss=\"mse\", metrics=[\"mae\"])\n",
    "        return model\n",
    "\n",
    "def fitModel(model_name, model, data, features, variable):\n",
    "    X = data[features]\n",
    "    y = data[variable]\n",
    "\n",
    "    if model_name == NEURAL_NETWORK:\n",
    "        X_train, X_test, y_train, y_test = train_test_split(X, y, test_size=0.2, random_state=42)\n",
    "        scaler = StandardScaler()\n",
    "        X_train_scaled = scaler.fit_transform(X_train)\n",
    "        X_test_scaled = scaler.transform(X_test)\n",
    "\n",
    "        early_stopping = EarlyStopping(monitor=\"val_loss\", patience=10, restore_best_weights=True)\n",
    "\n",
    "        model.fit(\n",
    "            X_train_scaled, y_train,\n",
    "            validation_data=(X_test_scaled, y_test),\n",
    "            epochs=100,\n",
    "            batch_size=32,\n",
    "            callbacks=[early_stopping],\n",
    "            verbose=1\n",
    "        )\n",
    "    else:\n",
    "        model.fit(X, y)\n",
    "        \n",
    "\n",
    "# build and store models\n",
    "# ----- DONT USE THIS AS IS ----- \n",
    "def buildAndStoreModels(taxi_type, model_name):\n",
    "    model = initModel(model_name, FEATURES)\n",
    "\n",
    "    chunks = 0\n",
    "    columns = COMMON_FETCH_COLUMNS + ['time_of_day', 'day_of_week']\n",
    "    \n",
    "    for year in range(MIN_YEAR, MAX_YEAR + 1):\n",
    "        sql = text(f\"\"\"\n",
    "            {selFrom(columns, year, taxi_type)}\n",
    "            where {' AND '.join(commonConditions(year))}\n",
    "        \"\"\")\n",
    "\n",
    "        with DR.engn.connect() as conn:\n",
    "            for df in pd.read_sql(sql, conn, chunksize=CHUNK_SIZE):\n",
    "                df['pickup_datetime'] = pd.to_datetime(df['pickup_datetime'])\n",
    "                chunks += len(df)\n",
    "                O.out(f'data processed: {chunks}')\n",
    "\n",
    "                for (model_name, features, variable, suffix) in model_list:\n",
    "                    fitModel(model_name, models[model_name], df, features, variable)\n",
    "            O.out(SEPARATOR)\n",
    "\n",
    "    for (model_name, features, variable, suffix) in model_list:\n",
    "        storeModel(models[model_name], f'{taxi_type}_{variable}_{model_name}{suffix}')"
   ]
  },
  {
   "cell_type": "code",
   "execution_count": null,
   "metadata": {},
   "outputs": [],
   "source": [
    "import plotly.graph_objs as go\n",
    "\n",
    "def predictModel(model_name, model, X):\n",
    "    if model_name == NEURAL_NETWORK:\n",
    "        scaler = StandardScaler()\n",
    "        X_scaled = scaler.fit_transform(X)\n",
    "        \n",
    "        y_pred = model.predict(X_scaled)\n",
    "        return y_pred.flatten()\n",
    "    else:\n",
    "        return model.predict(X)\n",
    "    \n",
    "def goLinePlot(title, x_label, y_label, x, y1, y2):\n",
    "    fig_lr = go.Figure()\n",
    "    sample_size = 150\n",
    "    y1_sample = y1[:sample_size].reset_index(drop=True)\n",
    "    y2_sample = y2[:sample_size]\n",
    "\n",
    "    fig_lr.add_trace(go.Scatter(x=x, y=y1_sample, mode='lines+markers', name=\"Actual\", line=dict(color='blue')))\n",
    "    fig_lr.add_trace(go.Scatter(x=x, y=y2_sample, mode='lines+markers', name=\"Predicted\", line=dict(color='orange')))\n",
    "    fig_lr.update_layout(\n",
    "        title=title,\n",
    "        xaxis_title=x_label,\n",
    "        yaxis_title=y_label,\n",
    "        legend=dict(x=0, y=1.1, orientation=\"h\"),\n",
    "        margin=dict(l=5, r=5, t=70, b=5)\n",
    "    )\n",
    "    return fig_lr\n",
    "\n",
    "\n",
    "def buildModelComparison(taxi_type):\n",
    "    result = []\n",
    "    figures = []\n",
    "    data = getSample(year=2020, taxi_type=taxi_type, limit=30000)\n",
    "    for (model_name, features, variable, suffix) in model_list:\n",
    "        X = data[features]\n",
    "        y = data[variable]\n",
    "\n",
    "        model = loadModel(f'{taxi_type}_{variable}_{model_name}{suffix}')\n",
    "        y_pred = predictModel(model_name, model, X)\n",
    "\n",
    "        result.append([model_name]+errors(y, y_pred))\n",
    "        fig = goLinePlot(f'{model_name} Prediction', 'Index', variable, y.index, y, y_pred)\n",
    "        figures.append(fig)\n",
    "\n",
    "    return result, figures\n",
    "\n",
    "def plotTable(df):\n",
    "    # Create Plotly Table\n",
    "    fig = go.Figure(\n",
    "        data=[\n",
    "            go.Table(\n",
    "                header=dict(\n",
    "                    values=list(df.columns),  \n",
    "                    fill_color=\"lightgrey\",  \n",
    "                    align=\"center\",          \n",
    "                    font=dict(size=12, color=\"black\")\n",
    "                ),\n",
    "                cells=dict(\n",
    "                    values=[df[col] for col in df.columns], \n",
    "                    fill_color=\"white\",                     \n",
    "                    align=\"left\",                           \n",
    "                    font=dict(size=11)                      \n",
    "                )\n",
    "            )\n",
    "        ]\n",
    "    )\n",
    "\n",
    "    fig.update_layout(title=\"Taxi Trip Data Table\", title_x=0.5,\n",
    "                      margin=dict(l=10, r=10, t=40, b=10),\n",
    "                      height = 250) \n",
    "    fig.show()\n",
    "\n",
    "def plotResult(taxi_type):\n",
    "    r, f = buildModelComparison(taxi_type)\n",
    "    res_df = pd.DataFrame(data=r, columns=['model_name', 'r2', 'mae', 'rmse', 'mape'])\n",
    "    res_df = res_df.drop('mape', axis=1)\n",
    "    plotTable(res_df)\n",
    "    for fig in f:\n",
    "        fig.show()\n"
   ]
  },
  {
   "cell_type": "code",
   "execution_count": null,
   "metadata": {},
   "outputs": [],
   "source": [
    "buildAndStoreModels(GREEN)"
   ]
  },
  {
   "cell_type": "code",
   "execution_count": null,
   "metadata": {},
   "outputs": [],
   "source": [
    "plotResult(GREEN)"
   ]
  },
  {
   "cell_type": "code",
   "execution_count": null,
   "metadata": {},
   "outputs": [],
   "source": [
    "\n",
    "green_result_df = pd.DataFrame(\n",
    "    data = [\n",
    "        ['linear_regression', 0.82, 3.09, 4.95],\n",
    "        ['random_forest', 0.93, 0.95, 2.97],\n",
    "        ['gradient_boost', 0.94, 0.96, 2.82],\n",
    "        ['xgb_regressor', 0.94, 0.86, 2.85],\n",
    "        ['light_gbm_regressor', 0.94, 0.94, 2.87],\n",
    "        ['ridge', 0.82, 3.09, 4.95],\n",
    "        # ['neural_network', 0.89, 1.94, 3.82],\n",
    "    ],\n",
    "    columns=['model_name', 'r2', 'mae', 'rmse']\n",
    ")\n",
    "\n",
    "\n",
    "yellow_result_df = pd.DataFrame(\n",
    "    data = [\n",
    "        ['linear_regression', 0.95, 1.28, 3.14],\n",
    "        ['random_forest', 0.98, 0.72, 2.25],\n",
    "        ['gradient_boost', 0.97, 0.80, 2.35],\n",
    "        ['xgb_regressor', 0.98, 0.61, 2.24],\n",
    "        ['light_gbm_regressor', 0.98, 0.72, 2.27],\n",
    "        ['ridge', 0.95, 1.28, 3.14],\n",
    "        # ['neural_network', 0, 0, 0],\n",
    "    ],\n",
    "    columns=['model_name', 'r2', 'mae', 'rmse']\n",
    ")"
   ]
  },
  {
   "cell_type": "markdown",
   "metadata": {},
   "source": [
    "Mean Absolute Error (MAE): 0.80\n",
    "Root Mean Squared Error (RMSE): 2.35\n",
    "R-squared (Accuracy): 0.97"
   ]
  },
  {
   "cell_type": "code",
   "execution_count": 40,
   "metadata": {},
   "outputs": [],
   "source": [
    "from lib import *\n",
    "normalizedColumns = {\n",
    "    'lpep_pickup_datetime': 'pickup_datetime', 'tpep_pickup_datetime': 'pickup_datetime',\n",
    "    'lpep_dropoff_datetime': 'dropoff_datetime', 'tpep_dropoff_datetime': 'dropoff_datetime',\n",
    "    'RatecodeID': 'ratecode_id',\n",
    "    'PULocationID': 'pu_location_id', \n",
    "    'DOLocationID': 'do_location_id',\n",
    "    'passenger_count': 'passenger_count', \n",
    "    'trip_distance': 'trip_distance', \n",
    "    'fare_amount': 'fare_amount', \n",
    "    'extra': 'extra', \n",
    "    'mta_tax': 'mta_tax',\n",
    "    'tip_amount': 'tip_amount', \n",
    "    'tolls_amount': 'tolls_amount', \n",
    "    'improvement_surcharge': 'improvement_surcharge',\n",
    "    'total_amount': 'total_amount', \n",
    "    'payment_type': 'payment_type', \n",
    "    'congestion_surcharge': 'congestion_surcharge'\n",
    "}\n",
    "\n",
    "for k in set(normalizedColumns.values()):\n",
    "    O.out(k)"
   ]
  },
  {
   "cell_type": "code",
   "execution_count": 41,
   "metadata": {},
   "outputs": [
    {
     "data": {
      "application/vnd.plotly.v1+json": {
       "config": {
        "plotlyServerURL": "https://plot.ly"
       },
       "data": [
        {
         "marker": {
          "color": "rgba(100, 200, 100, 0.7)"
         },
         "name": "GLM",
         "orientation": "h",
         "type": "bar",
         "x": [
          0.5,
          0.6,
          0.3,
          0.2,
          0.1,
          0.05,
          0.2
         ],
         "y": [
          "age",
          "NIHSS",
          "sex",
          "cardiac history",
          "diabetes",
          "hypercholesterolemia",
          "thrombolysis treatment"
         ]
        },
        {
         "marker": {
          "color": "rgba(120, 170, 150, 0.7)"
         },
         "name": "Lasso",
         "orientation": "h",
         "type": "bar",
         "x": [
          0.4,
          0.5,
          0.2,
          0.1,
          0.05,
          0.02,
          0.1
         ],
         "y": [
          "age",
          "NIHSS",
          "sex",
          "cardiac history",
          "diabetes",
          "hypercholesterolemia",
          "thrombolysis treatment"
         ]
        },
        {
         "marker": {
          "color": "rgba(140, 140, 200, 0.7)"
         },
         "name": "Elastic Net",
         "orientation": "h",
         "type": "bar",
         "x": [
          0.6,
          0.7,
          0.35,
          0.15,
          0.08,
          0.03,
          0.12
         ],
         "y": [
          "age",
          "NIHSS",
          "sex",
          "cardiac history",
          "diabetes",
          "hypercholesterolemia",
          "thrombolysis treatment"
         ]
        },
        {
         "marker": {
          "color": "rgba(160, 110, 250, 0.7)"
         },
         "name": "Tree Boosting",
         "orientation": "h",
         "type": "bar",
         "x": [
          0.7,
          0.8,
          0.4,
          0.3,
          0.15,
          0.1,
          0.25
         ],
         "y": [
          "age",
          "NIHSS",
          "sex",
          "cardiac history",
          "diabetes",
          "hypercholesterolemia",
          "thrombolysis treatment"
         ]
        },
        {
         "marker": {
          "color": "rgba(180, 80, 300, 0.7)"
         },
         "name": "MLP",
         "orientation": "h",
         "type": "bar",
         "x": [
          0.6,
          0.7,
          0.5,
          0.25,
          0.2,
          0.1,
          0.3
         ],
         "y": [
          "age",
          "NIHSS",
          "sex",
          "cardiac history",
          "diabetes",
          "hypercholesterolemia",
          "thrombolysis treatment"
         ]
        }
       ],
       "layout": {
        "barmode": "group",
        "legend": {
         "orientation": "h",
         "x": 0.5,
         "xanchor": "center",
         "y": -0.2
        },
        "template": {
         "data": {
          "bar": [
           {
            "error_x": {
             "color": "#2a3f5f"
            },
            "error_y": {
             "color": "#2a3f5f"
            },
            "marker": {
             "line": {
              "color": "white",
              "width": 0.5
             },
             "pattern": {
              "fillmode": "overlay",
              "size": 10,
              "solidity": 0.2
             }
            },
            "type": "bar"
           }
          ],
          "barpolar": [
           {
            "marker": {
             "line": {
              "color": "white",
              "width": 0.5
             },
             "pattern": {
              "fillmode": "overlay",
              "size": 10,
              "solidity": 0.2
             }
            },
            "type": "barpolar"
           }
          ],
          "carpet": [
           {
            "aaxis": {
             "endlinecolor": "#2a3f5f",
             "gridcolor": "#C8D4E3",
             "linecolor": "#C8D4E3",
             "minorgridcolor": "#C8D4E3",
             "startlinecolor": "#2a3f5f"
            },
            "baxis": {
             "endlinecolor": "#2a3f5f",
             "gridcolor": "#C8D4E3",
             "linecolor": "#C8D4E3",
             "minorgridcolor": "#C8D4E3",
             "startlinecolor": "#2a3f5f"
            },
            "type": "carpet"
           }
          ],
          "choropleth": [
           {
            "colorbar": {
             "outlinewidth": 0,
             "ticks": ""
            },
            "type": "choropleth"
           }
          ],
          "contour": [
           {
            "colorbar": {
             "outlinewidth": 0,
             "ticks": ""
            },
            "colorscale": [
             [
              0,
              "#0d0887"
             ],
             [
              0.1111111111111111,
              "#46039f"
             ],
             [
              0.2222222222222222,
              "#7201a8"
             ],
             [
              0.3333333333333333,
              "#9c179e"
             ],
             [
              0.4444444444444444,
              "#bd3786"
             ],
             [
              0.5555555555555556,
              "#d8576b"
             ],
             [
              0.6666666666666666,
              "#ed7953"
             ],
             [
              0.7777777777777778,
              "#fb9f3a"
             ],
             [
              0.8888888888888888,
              "#fdca26"
             ],
             [
              1,
              "#f0f921"
             ]
            ],
            "type": "contour"
           }
          ],
          "contourcarpet": [
           {
            "colorbar": {
             "outlinewidth": 0,
             "ticks": ""
            },
            "type": "contourcarpet"
           }
          ],
          "heatmap": [
           {
            "colorbar": {
             "outlinewidth": 0,
             "ticks": ""
            },
            "colorscale": [
             [
              0,
              "#0d0887"
             ],
             [
              0.1111111111111111,
              "#46039f"
             ],
             [
              0.2222222222222222,
              "#7201a8"
             ],
             [
              0.3333333333333333,
              "#9c179e"
             ],
             [
              0.4444444444444444,
              "#bd3786"
             ],
             [
              0.5555555555555556,
              "#d8576b"
             ],
             [
              0.6666666666666666,
              "#ed7953"
             ],
             [
              0.7777777777777778,
              "#fb9f3a"
             ],
             [
              0.8888888888888888,
              "#fdca26"
             ],
             [
              1,
              "#f0f921"
             ]
            ],
            "type": "heatmap"
           }
          ],
          "heatmapgl": [
           {
            "colorbar": {
             "outlinewidth": 0,
             "ticks": ""
            },
            "colorscale": [
             [
              0,
              "#0d0887"
             ],
             [
              0.1111111111111111,
              "#46039f"
             ],
             [
              0.2222222222222222,
              "#7201a8"
             ],
             [
              0.3333333333333333,
              "#9c179e"
             ],
             [
              0.4444444444444444,
              "#bd3786"
             ],
             [
              0.5555555555555556,
              "#d8576b"
             ],
             [
              0.6666666666666666,
              "#ed7953"
             ],
             [
              0.7777777777777778,
              "#fb9f3a"
             ],
             [
              0.8888888888888888,
              "#fdca26"
             ],
             [
              1,
              "#f0f921"
             ]
            ],
            "type": "heatmapgl"
           }
          ],
          "histogram": [
           {
            "marker": {
             "pattern": {
              "fillmode": "overlay",
              "size": 10,
              "solidity": 0.2
             }
            },
            "type": "histogram"
           }
          ],
          "histogram2d": [
           {
            "colorbar": {
             "outlinewidth": 0,
             "ticks": ""
            },
            "colorscale": [
             [
              0,
              "#0d0887"
             ],
             [
              0.1111111111111111,
              "#46039f"
             ],
             [
              0.2222222222222222,
              "#7201a8"
             ],
             [
              0.3333333333333333,
              "#9c179e"
             ],
             [
              0.4444444444444444,
              "#bd3786"
             ],
             [
              0.5555555555555556,
              "#d8576b"
             ],
             [
              0.6666666666666666,
              "#ed7953"
             ],
             [
              0.7777777777777778,
              "#fb9f3a"
             ],
             [
              0.8888888888888888,
              "#fdca26"
             ],
             [
              1,
              "#f0f921"
             ]
            ],
            "type": "histogram2d"
           }
          ],
          "histogram2dcontour": [
           {
            "colorbar": {
             "outlinewidth": 0,
             "ticks": ""
            },
            "colorscale": [
             [
              0,
              "#0d0887"
             ],
             [
              0.1111111111111111,
              "#46039f"
             ],
             [
              0.2222222222222222,
              "#7201a8"
             ],
             [
              0.3333333333333333,
              "#9c179e"
             ],
             [
              0.4444444444444444,
              "#bd3786"
             ],
             [
              0.5555555555555556,
              "#d8576b"
             ],
             [
              0.6666666666666666,
              "#ed7953"
             ],
             [
              0.7777777777777778,
              "#fb9f3a"
             ],
             [
              0.8888888888888888,
              "#fdca26"
             ],
             [
              1,
              "#f0f921"
             ]
            ],
            "type": "histogram2dcontour"
           }
          ],
          "mesh3d": [
           {
            "colorbar": {
             "outlinewidth": 0,
             "ticks": ""
            },
            "type": "mesh3d"
           }
          ],
          "parcoords": [
           {
            "line": {
             "colorbar": {
              "outlinewidth": 0,
              "ticks": ""
             }
            },
            "type": "parcoords"
           }
          ],
          "pie": [
           {
            "automargin": true,
            "type": "pie"
           }
          ],
          "scatter": [
           {
            "fillpattern": {
             "fillmode": "overlay",
             "size": 10,
             "solidity": 0.2
            },
            "type": "scatter"
           }
          ],
          "scatter3d": [
           {
            "line": {
             "colorbar": {
              "outlinewidth": 0,
              "ticks": ""
             }
            },
            "marker": {
             "colorbar": {
              "outlinewidth": 0,
              "ticks": ""
             }
            },
            "type": "scatter3d"
           }
          ],
          "scattercarpet": [
           {
            "marker": {
             "colorbar": {
              "outlinewidth": 0,
              "ticks": ""
             }
            },
            "type": "scattercarpet"
           }
          ],
          "scattergeo": [
           {
            "marker": {
             "colorbar": {
              "outlinewidth": 0,
              "ticks": ""
             }
            },
            "type": "scattergeo"
           }
          ],
          "scattergl": [
           {
            "marker": {
             "colorbar": {
              "outlinewidth": 0,
              "ticks": ""
             }
            },
            "type": "scattergl"
           }
          ],
          "scattermapbox": [
           {
            "marker": {
             "colorbar": {
              "outlinewidth": 0,
              "ticks": ""
             }
            },
            "type": "scattermapbox"
           }
          ],
          "scatterpolar": [
           {
            "marker": {
             "colorbar": {
              "outlinewidth": 0,
              "ticks": ""
             }
            },
            "type": "scatterpolar"
           }
          ],
          "scatterpolargl": [
           {
            "marker": {
             "colorbar": {
              "outlinewidth": 0,
              "ticks": ""
             }
            },
            "type": "scatterpolargl"
           }
          ],
          "scatterternary": [
           {
            "marker": {
             "colorbar": {
              "outlinewidth": 0,
              "ticks": ""
             }
            },
            "type": "scatterternary"
           }
          ],
          "surface": [
           {
            "colorbar": {
             "outlinewidth": 0,
             "ticks": ""
            },
            "colorscale": [
             [
              0,
              "#0d0887"
             ],
             [
              0.1111111111111111,
              "#46039f"
             ],
             [
              0.2222222222222222,
              "#7201a8"
             ],
             [
              0.3333333333333333,
              "#9c179e"
             ],
             [
              0.4444444444444444,
              "#bd3786"
             ],
             [
              0.5555555555555556,
              "#d8576b"
             ],
             [
              0.6666666666666666,
              "#ed7953"
             ],
             [
              0.7777777777777778,
              "#fb9f3a"
             ],
             [
              0.8888888888888888,
              "#fdca26"
             ],
             [
              1,
              "#f0f921"
             ]
            ],
            "type": "surface"
           }
          ],
          "table": [
           {
            "cells": {
             "fill": {
              "color": "#EBF0F8"
             },
             "line": {
              "color": "white"
             }
            },
            "header": {
             "fill": {
              "color": "#C8D4E3"
             },
             "line": {
              "color": "white"
             }
            },
            "type": "table"
           }
          ]
         },
         "layout": {
          "annotationdefaults": {
           "arrowcolor": "#2a3f5f",
           "arrowhead": 0,
           "arrowwidth": 1
          },
          "autotypenumbers": "strict",
          "coloraxis": {
           "colorbar": {
            "outlinewidth": 0,
            "ticks": ""
           }
          },
          "colorscale": {
           "diverging": [
            [
             0,
             "#8e0152"
            ],
            [
             0.1,
             "#c51b7d"
            ],
            [
             0.2,
             "#de77ae"
            ],
            [
             0.3,
             "#f1b6da"
            ],
            [
             0.4,
             "#fde0ef"
            ],
            [
             0.5,
             "#f7f7f7"
            ],
            [
             0.6,
             "#e6f5d0"
            ],
            [
             0.7,
             "#b8e186"
            ],
            [
             0.8,
             "#7fbc41"
            ],
            [
             0.9,
             "#4d9221"
            ],
            [
             1,
             "#276419"
            ]
           ],
           "sequential": [
            [
             0,
             "#0d0887"
            ],
            [
             0.1111111111111111,
             "#46039f"
            ],
            [
             0.2222222222222222,
             "#7201a8"
            ],
            [
             0.3333333333333333,
             "#9c179e"
            ],
            [
             0.4444444444444444,
             "#bd3786"
            ],
            [
             0.5555555555555556,
             "#d8576b"
            ],
            [
             0.6666666666666666,
             "#ed7953"
            ],
            [
             0.7777777777777778,
             "#fb9f3a"
            ],
            [
             0.8888888888888888,
             "#fdca26"
            ],
            [
             1,
             "#f0f921"
            ]
           ],
           "sequentialminus": [
            [
             0,
             "#0d0887"
            ],
            [
             0.1111111111111111,
             "#46039f"
            ],
            [
             0.2222222222222222,
             "#7201a8"
            ],
            [
             0.3333333333333333,
             "#9c179e"
            ],
            [
             0.4444444444444444,
             "#bd3786"
            ],
            [
             0.5555555555555556,
             "#d8576b"
            ],
            [
             0.6666666666666666,
             "#ed7953"
            ],
            [
             0.7777777777777778,
             "#fb9f3a"
            ],
            [
             0.8888888888888888,
             "#fdca26"
            ],
            [
             1,
             "#f0f921"
            ]
           ]
          },
          "colorway": [
           "#636efa",
           "#EF553B",
           "#00cc96",
           "#ab63fa",
           "#FFA15A",
           "#19d3f3",
           "#FF6692",
           "#B6E880",
           "#FF97FF",
           "#FECB52"
          ],
          "font": {
           "color": "#2a3f5f"
          },
          "geo": {
           "bgcolor": "white",
           "lakecolor": "white",
           "landcolor": "white",
           "showlakes": true,
           "showland": true,
           "subunitcolor": "#C8D4E3"
          },
          "hoverlabel": {
           "align": "left"
          },
          "hovermode": "closest",
          "mapbox": {
           "style": "light"
          },
          "paper_bgcolor": "white",
          "plot_bgcolor": "white",
          "polar": {
           "angularaxis": {
            "gridcolor": "#EBF0F8",
            "linecolor": "#EBF0F8",
            "ticks": ""
           },
           "bgcolor": "white",
           "radialaxis": {
            "gridcolor": "#EBF0F8",
            "linecolor": "#EBF0F8",
            "ticks": ""
           }
          },
          "scene": {
           "xaxis": {
            "backgroundcolor": "white",
            "gridcolor": "#DFE8F3",
            "gridwidth": 2,
            "linecolor": "#EBF0F8",
            "showbackground": true,
            "ticks": "",
            "zerolinecolor": "#EBF0F8"
           },
           "yaxis": {
            "backgroundcolor": "white",
            "gridcolor": "#DFE8F3",
            "gridwidth": 2,
            "linecolor": "#EBF0F8",
            "showbackground": true,
            "ticks": "",
            "zerolinecolor": "#EBF0F8"
           },
           "zaxis": {
            "backgroundcolor": "white",
            "gridcolor": "#DFE8F3",
            "gridwidth": 2,
            "linecolor": "#EBF0F8",
            "showbackground": true,
            "ticks": "",
            "zerolinecolor": "#EBF0F8"
           }
          },
          "shapedefaults": {
           "line": {
            "color": "#2a3f5f"
           }
          },
          "ternary": {
           "aaxis": {
            "gridcolor": "#DFE8F3",
            "linecolor": "#A2B1C6",
            "ticks": ""
           },
           "baxis": {
            "gridcolor": "#DFE8F3",
            "linecolor": "#A2B1C6",
            "ticks": ""
           },
           "bgcolor": "white",
           "caxis": {
            "gridcolor": "#DFE8F3",
            "linecolor": "#A2B1C6",
            "ticks": ""
           }
          },
          "title": {
           "x": 0.05
          },
          "xaxis": {
           "automargin": true,
           "gridcolor": "#EBF0F8",
           "linecolor": "#EBF0F8",
           "ticks": "",
           "title": {
            "standoff": 15
           },
           "zerolinecolor": "#EBF0F8",
           "zerolinewidth": 2
          },
          "yaxis": {
           "automargin": true,
           "gridcolor": "#EBF0F8",
           "linecolor": "#EBF0F8",
           "ticks": "",
           "title": {
            "standoff": 15
           },
           "zerolinecolor": "#EBF0F8",
           "zerolinewidth": 2
          }
         }
        },
        "title": {
         "text": "Clinical Features Importance Rating",
         "x": 0.5
        },
        "xaxis": {
         "title": {
          "text": "Importance Score"
         }
        },
        "yaxis": {
         "title": {
          "text": "Features"
         }
        }
       }
      }
     },
     "metadata": {},
     "output_type": "display_data"
    }
   ],
   "source": [
    "import pandas as pd\n",
    "\n",
    "# Sample data for feature importance\n",
    "data = {\n",
    "    \"Feature\": [\"age\", \"NIHSS\", \"sex\", \"cardiac history\", \"diabetes\", \"hypercholesterolemia\", \"thrombolysis treatment\"],\n",
    "    \"GLM\": [0.5, 0.6, 0.3, 0.2, 0.1, 0.05, 0.2],\n",
    "    \"Lasso\": [0.4, 0.5, 0.2, 0.1, 0.05, 0.02, 0.1],\n",
    "    \"Elastic Net\": [0.6, 0.7, 0.35, 0.15, 0.08, 0.03, 0.12],\n",
    "    \"Tree Boosting\": [0.7, 0.8, 0.4, 0.3, 0.15, 0.1, 0.25],\n",
    "    \"MLP\": [0.6, 0.7, 0.5, 0.25, 0.2, 0.1, 0.3]\n",
    "}\n",
    "\n",
    "df = pd.DataFrame(data)\n",
    "\n",
    "import plotly.graph_objects as go\n",
    "\n",
    "# Initialize a Plotly figure\n",
    "fig = go.Figure()\n",
    "\n",
    "# List of models to iterate through\n",
    "models = [\"GLM\", \"Lasso\", \"Elastic Net\", \"Tree Boosting\", \"MLP\"]\n",
    "\n",
    "# Create a subplot for each model\n",
    "for i, model in enumerate(models):\n",
    "    fig.add_trace(\n",
    "        go.Bar(\n",
    "            y=df[\"Feature\"],                # Features on the y-axis\n",
    "            x=df[model],                    # Importance values on the x-axis\n",
    "            orientation=\"h\",                # Horizontal bar chart\n",
    "            name=model,                     # Model name for the legend\n",
    "            marker=dict(color=f\"rgba({20*i + 100}, {200 - 30*i}, {50*i + 100}, 0.7)\")  # Custom color for each model\n",
    "        )\n",
    "    )\n",
    "\n",
    "# Update layout for a clean look\n",
    "fig.update_layout(\n",
    "    title=\"Clinical Features Importance Rating\",\n",
    "    title_x=0.5,  # Center the title\n",
    "    barmode=\"group\",  # Group the bars side-by-side\n",
    "    xaxis_title=\"Importance Score\",\n",
    "    yaxis_title=\"Features\",\n",
    "    template=\"plotly_white\",\n",
    "    legend=dict(orientation=\"h\", y=-0.2, x=0.5, xanchor=\"center\")  # Place the legend below the chart\n",
    ")\n",
    "\n",
    "# Show the chart\n",
    "fig.show()\n"
   ]
  },
  {
   "cell_type": "code",
   "execution_count": 2,
   "metadata": {},
   "outputs": [
    {
     "name": "stdout",
     "output_type": "stream",
     "text": [
      "sql engine ready\n"
     ]
    }
   ],
   "source": [
    "from data import *\n",
    "import matplotlib.pyplot as plt\n",
    "import seaborn as sns\n",
    "\n",
    "taxi_type = YELLOW\n",
    "# df = readData(taxi_type=taxi_type)\n",
    "# df = df[[VARIABLE] + FEATURES]"
   ]
  },
  {
   "cell_type": "code",
   "execution_count": 9,
   "metadata": {},
   "outputs": [
    {
     "name": "stdout",
     "output_type": "stream",
     "text": [
      "total_rows: 22573683\n",
      "total_rows: 50228376\n",
      "total_rows: 85998814\n",
      "total_rows: 120393705\n"
     ]
    }
   ],
   "source": [
    "# Initialize an empty DataFrame to store correlations\n",
    "correlation_sum = None\n",
    "row_count = 0\n",
    "\n",
    "# Target column for correlation\n",
    "target_column = VARIABLE\n",
    "\n",
    "# Process the file in chunks\n",
    "for year in range(MIN_YEAR, MAX_YEAR + 1):\n",
    "    all_conditions = commonConditions(year)\n",
    "    where_clause = f'''where {' AND '.join(all_conditions)}''' \n",
    "\n",
    "    sql = text(f\"\"\"\n",
    "        {selFrom([VARIABLE] + FEATURES, year, taxi_type)} {where_clause}\n",
    "    \"\"\")\n",
    "    \n",
    "    with DR.engn.connect() as conn:\n",
    "        for chunk in pd.read_sql(sql, conn, chunksize=CHUNK_SIZE):\n",
    "            # chunk = chunk.dropna(subset=[target_column])\n",
    "            chunk = chunk.dropna()\n",
    "            \n",
    "            # correlations = chunk.corr()[target_column] \n",
    "            chunk_corr = chunk.corr()\n",
    "            \n",
    "            if correlation_sum is None:\n",
    "                correlation_sum = chunk_corr * len(chunk)  # Weighted sum of correlations\n",
    "            else:\n",
    "                correlation_sum += chunk_corr * len(chunk)  # Weighted sum\n",
    "\n",
    "            # Update the total number of rows processed\n",
    "            row_count += len(chunk)\n",
    "    print(f'total_rows: {row_count}')\n",
    "\n",
    "\n",
    "final_corr = correlation_sum / row_count\n",
    "# average_correlation = average_correlation.drop(target_column)\n",
    "\n",
    "# Display the result\n",
    "# print(\"Average Correlations with 'fare_amount':\")\n",
    "# print(average_correlation.sort_values(ascending=False))"
   ]
  },
  {
   "cell_type": "code",
   "execution_count": 8,
   "metadata": {},
   "outputs": [
    {
     "data": {
      "image/png": "[encoded data removed]",
      "text/plain": [
       "<Figure size 800x500 with 1 Axes>"
      ]
     },
     "metadata": {},
     "output_type": "display_data"
    }
   ],
   "source": [
    "import pandas as pd\n",
    "import matplotlib.pyplot as plt\n",
    "\n",
    "# Calculate correlations with 'fare_amount'\n",
    "# correlations = df.corr()[\"fare_amount\"].drop(\"fare_amount\")  # Exclude self-correlation\n",
    "\n",
    "# Sort correlations by absolute values for better visualization\n",
    "correlations = average_correlation.abs().sort_values(ascending=False)\n",
    "\n",
    "# Plot bar chart\n",
    "plt.figure(figsize=(8, 5))\n",
    "correlations.plot(kind=\"bar\", color=taxi_type, edgecolor=\"black\")\n",
    "plt.title(\"Correlation of Features with Fare Amount\", fontsize=14)\n",
    "plt.ylabel(\"Correlation Coefficient\", fontsize=12)\n",
    "plt.xlabel(\"Features\", fontsize=12)\n",
    "# plt.xticks(rotation=45, ha=\"right\")\n",
    "plt.grid(axis=\"y\", linestyle=\"--\", alpha=0.7)\n",
    "plt.tight_layout()\n",
    "plt.show()\n"
   ]
  },
  {
   "cell_type": "code",
   "execution_count": 10,
   "metadata": {},
   "outputs": [
    {
     "data": {
      "image/png": "[encoded data removed]",
      "text/plain": [
       "<Figure size 1200x800 with 2 Axes>"
      ]
     },
     "metadata": {},
     "output_type": "display_data"
    }
   ],
   "source": [
    "# corr_matrix = df[[VARIABLE] + FEATURES].corr()\n",
    "\n",
    "# Set up the matplotlib figure\n",
    "plt.figure(figsize=(12, 8))\n",
    "\n",
    "# Create a heatmap\n",
    "sns.heatmap(final_corr, annot=True, cmap='coolwarm', vmin=-1, vmax=1, fmt='.1f')\n",
    "\n",
    "# Add titles and labels\n",
    "plt.title('Correlation Heatmap', fontsize=16)\n",
    "plt.show()"
   ]
  },
  {
   "cell_type": "code",
   "execution_count": 2,
   "metadata": {},
   "outputs": [
    {
     "data": {
      "image/png": "[encoded data removed]",
      "text/plain": [
       "<Figure size 1600x800 with 6 Axes>"
      ]
     },
     "metadata": {},
     "output_type": "display_data"
    }
   ],
   "source": [
    "\n",
    "import pandas as pd\n",
    "import numpy as np\n",
    "from sklearn.model_selection import train_test_split\n",
    "from sklearn.linear_model import LinearRegression, Ridge\n",
    "from sklearn.ensemble import RandomForestRegressor\n",
    "from xgboost import XGBRegressor\n",
    "from sklearn.metrics import mean_squared_error\n",
    "import shap\n",
    "import matplotlib.pyplot as plt\n",
    "\n",
    "from lib import *\n",
    "from model import *\n",
    "from data import *\n",
    "\n",
    "taxi_type = YELLOW\n",
    "train_sql = getSqlForModeling(taxi_type, isTrain=True)\n",
    "test_sql = getSqlForModeling(taxi_type, isTrain=False)\n",
    "\n",
    "# Feature selection and target variable\n",
    "features = FEATURES\n",
    "target = VARIABLE\n",
    "\n",
    "model_names = [\n",
    "    LINEAR_REGRESSION,\n",
    "    RIDGE,\n",
    "    RANDOM_FOREST,\n",
    "    GRADIENT_BOOST,\n",
    "    XGB_REGRESSOR,\n",
    "    LIGHT_GBM_REGRESSOR,\n",
    "]\n",
    "\n",
    "color_list = [\n",
    "    \"lightpink\",\n",
    "    \"lightblue\",\n",
    "    \"lightgreen\",\n",
    "    \"lavender\",\n",
    "    \"peachpuff\",\n",
    "    \"powderblue\"\n",
    "]\n",
    "\n",
    "# Train models and calculate feature importance\n",
    "feature_importances = {}\n",
    "for name in model_names:\n",
    "    model = loadModel(f'{taxi_type}_{VARIABLE}_{name}')\n",
    "    \n",
    "    # with DR.engn.connect() as conn:\n",
    "    #     processed = 0\n",
    "    #     y_t_chunks = []\n",
    "    #     y_p_chunks = []\n",
    "    #     for df in pd.read_sql(test_sql, conn, chunksize=CHUNK_SIZE):\n",
    "    #         processed += len(df)\n",
    "    #         X = df[FEATURES]\n",
    "    #         y_t_chunks.append(df[VARIABLE])\n",
    "\n",
    "    #         y_p_chunks.append(model.predict(X))\n",
    "    #         O.out(f'Predicted {processed} rows')\n",
    "\n",
    "    # # Performance\n",
    "    # y_test = pd.concat(y_t_chunks, ignore_index=True)\n",
    "    # y_pred = np.concatenate(y_p_chunks)\n",
    "    \n",
    "    # Feature importance\n",
    "    if name == LINEAR_REGRESSION or name == RIDGE:\n",
    "        # Coefficients as feature importance\n",
    "        importance = np.abs(model.coef_)\n",
    "    else:\n",
    "        # Feature importance from tree-based models\n",
    "        importance = model.feature_importances_\n",
    "    \n",
    "    feature_importances[name] = importance\n",
    "\n",
    "# Create a DataFrame for feature importances\n",
    "feature_importance_df = pd.DataFrame(feature_importances, index=features)\n",
    "# print(feature_importance_df)\n",
    "\n",
    "# Plot feature importance for all models\n",
    "fig, axes = plt.subplots(2, 3, figsize=(16, 8))\n",
    "axes = axes.flatten()\n",
    "\n",
    "for idx, (name, importance) in enumerate(feature_importances.items()):\n",
    "    axes[idx].barh(features, importance, color=color_list[idx])\n",
    "    axes[idx].set_title(f\"{name} Feature Importance\")\n",
    "    axes[idx].set_xlabel('Importance')\n",
    "    axes[idx].set_ylabel('Features')\n",
    "\n",
    "plt.tight_layout()\n",
    "plt.show()\n",
    "\n",
    "# SHAP values for XGBoost (example)\n",
    "# print(\"Calculating SHAP values for XGBoost...\")\n",
    "# explainer = shap.TreeExplainer(models[\"XGBoost\"])\n",
    "# shap_values = explainer.shap_values(X_test)\n",
    "\n",
    "# # SHAP summary plot\n",
    "# shap.summary_plot(shap_values, X_test, plot_type=\"bar\")"
   ]
  },
  {
   "cell_type": "code",
   "execution_count": 46,
   "metadata": {},
   "outputs": [
    {
     "data": {
      "application/vnd.plotly.v1+json": {
       "config": {
        "plotlyServerURL": "https://plot.ly"
       },
       "data": [
        {
         "name": "GLM",
         "orientation": "h",
         "type": "bar",
         "x": [
          0.5,
          0.6,
          0.3,
          0.2,
          0.1,
          0.05,
          0.2
         ],
         "xaxis": "x",
         "y": [
          "age",
          "NIHSS",
          "sex",
          "cardiac history",
          "diabetes",
          "hypercholesterolemia",
          "thrombolysis treatment"
         ],
         "yaxis": "y"
        },
        {
         "name": "Lasso",
         "orientation": "h",
         "type": "bar",
         "x": [
          0.4,
          0.5,
          0.2,
          0.1,
          0.05,
          0.02,
          0.1
         ],
         "xaxis": "x2",
         "y": [
          "age",
          "NIHSS",
          "sex",
          "cardiac history",
          "diabetes",
          "hypercholesterolemia",
          "thrombolysis treatment"
         ],
         "yaxis": "y2"
        },
        {
         "name": "Elastic Net",
         "orientation": "h",
         "type": "bar",
         "x": [
          0.6,
          0.7,
          0.35,
          0.15,
          0.08,
          0.03,
          0.12
         ],
         "xaxis": "x3",
         "y": [
          "age",
          "NIHSS",
          "sex",
          "cardiac history",
          "diabetes",
          "hypercholesterolemia",
          "thrombolysis treatment"
         ],
         "yaxis": "y3"
        },
        {
         "name": "Tree Boosting",
         "orientation": "h",
         "type": "bar",
         "x": [
          0.7,
          0.8,
          0.4,
          0.3,
          0.15,
          0.1,
          0.25
         ],
         "xaxis": "x4",
         "y": [
          "age",
          "NIHSS",
          "sex",
          "cardiac history",
          "diabetes",
          "hypercholesterolemia",
          "thrombolysis treatment"
         ],
         "yaxis": "y4"
        },
        {
         "name": "MLP",
         "orientation": "h",
         "type": "bar",
         "x": [
          0.6,
          0.7,
          0.5,
          0.25,
          0.2,
          0.1,
          0.3
         ],
         "xaxis": "x5",
         "y": [
          "age",
          "NIHSS",
          "sex",
          "cardiac history",
          "diabetes",
          "hypercholesterolemia",
          "thrombolysis treatment"
         ],
         "yaxis": "y5"
        }
       ],
       "layout": {
        "annotations": [
         {
          "font": {
           "size": 16
          },
          "showarrow": false,
          "text": "GLM",
          "x": 0.06,
          "xanchor": "center",
          "xref": "paper",
          "y": 1,
          "yanchor": "bottom",
          "yref": "paper"
         },
         {
          "font": {
           "size": 16
          },
          "showarrow": false,
          "text": "Lasso",
          "x": 0.27999999999999997,
          "xanchor": "center",
          "xref": "paper",
          "y": 1,
          "yanchor": "bottom",
          "yref": "paper"
         },
         {
          "font": {
           "size": 16
          },
          "showarrow": false,
          "text": "Elastic Net",
          "x": 0.5,
          "xanchor": "center",
          "xref": "paper",
          "y": 1,
          "yanchor": "bottom",
          "yref": "paper"
         },
         {
          "font": {
           "size": 16
          },
          "showarrow": false,
          "text": "Tree Boosting",
          "x": 0.72,
          "xanchor": "center",
          "xref": "paper",
          "y": 1,
          "yanchor": "bottom",
          "yref": "paper"
         },
         {
          "font": {
           "size": 16
          },
          "showarrow": false,
          "text": "MLP",
          "x": 0.94,
          "xanchor": "center",
          "xref": "paper",
          "y": 1,
          "yanchor": "bottom",
          "yref": "paper"
         }
        ],
        "height": 500,
        "showlegend": false,
        "template": {
         "data": {
          "bar": [
           {
            "error_x": {
             "color": "#2a3f5f"
            },
            "error_y": {
             "color": "#2a3f5f"
            },
            "marker": {
             "line": {
              "color": "white",
              "width": 0.5
             },
             "pattern": {
              "fillmode": "overlay",
              "size": 10,
              "solidity": 0.2
             }
            },
            "type": "bar"
           }
          ],
          "barpolar": [
           {
            "marker": {
             "line": {
              "color": "white",
              "width": 0.5
             },
             "pattern": {
              "fillmode": "overlay",
              "size": 10,
              "solidity": 0.2
             }
            },
            "type": "barpolar"
           }
          ],
          "carpet": [
           {
            "aaxis": {
             "endlinecolor": "#2a3f5f",
             "gridcolor": "#C8D4E3",
             "linecolor": "#C8D4E3",
             "minorgridcolor": "#C8D4E3",
             "startlinecolor": "#2a3f5f"
            },
            "baxis": {
             "endlinecolor": "#2a3f5f",
             "gridcolor": "#C8D4E3",
             "linecolor": "#C8D4E3",
             "minorgridcolor": "#C8D4E3",
             "startlinecolor": "#2a3f5f"
            },
            "type": "carpet"
           }
          ],
          "choropleth": [
           {
            "colorbar": {
             "outlinewidth": 0,
             "ticks": ""
            },
            "type": "choropleth"
           }
          ],
          "contour": [
           {
            "colorbar": {
             "outlinewidth": 0,
             "ticks": ""
            },
            "colorscale": [
             [
              0,
              "#0d0887"
             ],
             [
              0.1111111111111111,
              "#46039f"
             ],
             [
              0.2222222222222222,
              "#7201a8"
             ],
             [
              0.3333333333333333,
              "#9c179e"
             ],
             [
              0.4444444444444444,
              "#bd3786"
             ],
             [
              0.5555555555555556,
              "#d8576b"
             ],
             [
              0.6666666666666666,
              "#ed7953"
             ],
             [
              0.7777777777777778,
              "#fb9f3a"
             ],
             [
              0.8888888888888888,
              "#fdca26"
             ],
             [
              1,
              "#f0f921"
             ]
            ],
            "type": "contour"
           }
          ],
          "contourcarpet": [
           {
            "colorbar": {
             "outlinewidth": 0,
             "ticks": ""
            },
            "type": "contourcarpet"
           }
          ],
          "heatmap": [
           {
            "colorbar": {
             "outlinewidth": 0,
             "ticks": ""
            },
            "colorscale": [
             [
              0,
              "#0d0887"
             ],
             [
              0.1111111111111111,
              "#46039f"
             ],
             [
              0.2222222222222222,
              "#7201a8"
             ],
             [
              0.3333333333333333,
              "#9c179e"
             ],
             [
              0.4444444444444444,
              "#bd3786"
             ],
             [
              0.5555555555555556,
              "#d8576b"
             ],
             [
              0.6666666666666666,
              "#ed7953"
             ],
             [
              0.7777777777777778,
              "#fb9f3a"
             ],
             [
              0.8888888888888888,
              "#fdca26"
             ],
             [
              1,
              "#f0f921"
             ]
            ],
            "type": "heatmap"
           }
          ],
          "heatmapgl": [
           {
            "colorbar": {
             "outlinewidth": 0,
             "ticks": ""
            },
            "colorscale": [
             [
              0,
              "#0d0887"
             ],
             [
              0.1111111111111111,
              "#46039f"
             ],
             [
              0.2222222222222222,
              "#7201a8"
             ],
             [
              0.3333333333333333,
              "#9c179e"
             ],
             [
              0.4444444444444444,
              "#bd3786"
             ],
             [
              0.5555555555555556,
              "#d8576b"
             ],
             [
              0.6666666666666666,
              "#ed7953"
             ],
             [
              0.7777777777777778,
              "#fb9f3a"
             ],
             [
              0.8888888888888888,
              "#fdca26"
             ],
             [
              1,
              "#f0f921"
             ]
            ],
            "type": "heatmapgl"
           }
          ],
          "histogram": [
           {
            "marker": {
             "pattern": {
              "fillmode": "overlay",
              "size": 10,
              "solidity": 0.2
             }
            },
            "type": "histogram"
           }
          ],
          "histogram2d": [
           {
            "colorbar": {
             "outlinewidth": 0,
             "ticks": ""
            },
            "colorscale": [
             [
              0,
              "#0d0887"
             ],
             [
              0.1111111111111111,
              "#46039f"
             ],
             [
              0.2222222222222222,
              "#7201a8"
             ],
             [
              0.3333333333333333,
              "#9c179e"
             ],
             [
              0.4444444444444444,
              "#bd3786"
             ],
             [
              0.5555555555555556,
              "#d8576b"
             ],
             [
              0.6666666666666666,
              "#ed7953"
             ],
             [
              0.7777777777777778,
              "#fb9f3a"
             ],
             [
              0.8888888888888888,
              "#fdca26"
             ],
             [
              1,
              "#f0f921"
             ]
            ],
            "type": "histogram2d"
           }
          ],
          "histogram2dcontour": [
           {
            "colorbar": {
             "outlinewidth": 0,
             "ticks": ""
            },
            "colorscale": [
             [
              0,
              "#0d0887"
             ],
             [
              0.1111111111111111,
              "#46039f"
             ],
             [
              0.2222222222222222,
              "#7201a8"
             ],
             [
              0.3333333333333333,
              "#9c179e"
             ],
             [
              0.4444444444444444,
              "#bd3786"
             ],
             [
              0.5555555555555556,
              "#d8576b"
             ],
             [
              0.6666666666666666,
              "#ed7953"
             ],
             [
              0.7777777777777778,
              "#fb9f3a"
             ],
             [
              0.8888888888888888,
              "#fdca26"
             ],
             [
              1,
              "#f0f921"
             ]
            ],
            "type": "histogram2dcontour"
           }
          ],
          "mesh3d": [
           {
            "colorbar": {
             "outlinewidth": 0,
             "ticks": ""
            },
            "type": "mesh3d"
           }
          ],
          "parcoords": [
           {
            "line": {
             "colorbar": {
              "outlinewidth": 0,
              "ticks": ""
             }
            },
            "type": "parcoords"
           }
          ],
          "pie": [
           {
            "automargin": true,
            "type": "pie"
           }
          ],
          "scatter": [
           {
            "fillpattern": {
             "fillmode": "overlay",
             "size": 10,
             "solidity": 0.2
            },
            "type": "scatter"
           }
          ],
          "scatter3d": [
           {
            "line": {
             "colorbar": {
              "outlinewidth": 0,
              "ticks": ""
             }
            },
            "marker": {
             "colorbar": {
              "outlinewidth": 0,
              "ticks": ""
             }
            },
            "type": "scatter3d"
           }
          ],
          "scattercarpet": [
           {
            "marker": {
             "colorbar": {
              "outlinewidth": 0,
              "ticks": ""
             }
            },
            "type": "scattercarpet"
           }
          ],
          "scattergeo": [
           {
            "marker": {
             "colorbar": {
              "outlinewidth": 0,
              "ticks": ""
             }
            },
            "type": "scattergeo"
           }
          ],
          "scattergl": [
           {
            "marker": {
             "colorbar": {
              "outlinewidth": 0,
              "ticks": ""
             }
            },
            "type": "scattergl"
           }
          ],
          "scattermapbox": [
           {
            "marker": {
             "colorbar": {
              "outlinewidth": 0,
              "ticks": ""
             }
            },
            "type": "scattermapbox"
           }
          ],
          "scatterpolar": [
           {
            "marker": {
             "colorbar": {
              "outlinewidth": 0,
              "ticks": ""
             }
            },
            "type": "scatterpolar"
           }
          ],
          "scatterpolargl": [
           {
            "marker": {
             "colorbar": {
              "outlinewidth": 0,
              "ticks": ""
             }
            },
            "type": "scatterpolargl"
           }
          ],
          "scatterternary": [
           {
            "marker": {
             "colorbar": {
              "outlinewidth": 0,
              "ticks": ""
             }
            },
            "type": "scatterternary"
           }
          ],
          "surface": [
           {
            "colorbar": {
             "outlinewidth": 0,
             "ticks": ""
            },
            "colorscale": [
             [
              0,
              "#0d0887"
             ],
             [
              0.1111111111111111,
              "#46039f"
             ],
             [
              0.2222222222222222,
              "#7201a8"
             ],
             [
              0.3333333333333333,
              "#9c179e"
             ],
             [
              0.4444444444444444,
              "#bd3786"
             ],
             [
              0.5555555555555556,
              "#d8576b"
             ],
             [
              0.6666666666666666,
              "#ed7953"
             ],
             [
              0.7777777777777778,
              "#fb9f3a"
             ],
             [
              0.8888888888888888,
              "#fdca26"
             ],
             [
              1,
              "#f0f921"
             ]
            ],
            "type": "surface"
           }
          ],
          "table": [
           {
            "cells": {
             "fill": {
              "color": "#EBF0F8"
             },
             "line": {
              "color": "white"
             }
            },
            "header": {
             "fill": {
              "color": "#C8D4E3"
             },
             "line": {
              "color": "white"
             }
            },
            "type": "table"
           }
          ]
         },
         "layout": {
          "annotationdefaults": {
           "arrowcolor": "#2a3f5f",
           "arrowhead": 0,
           "arrowwidth": 1
          },
          "autotypenumbers": "strict",
          "coloraxis": {
           "colorbar": {
            "outlinewidth": 0,
            "ticks": ""
           }
          },
          "colorscale": {
           "diverging": [
            [
             0,
             "#8e0152"
            ],
            [
             0.1,
             "#c51b7d"
            ],
            [
             0.2,
             "#de77ae"
            ],
            [
             0.3,
             "#f1b6da"
            ],
            [
             0.4,
             "#fde0ef"
            ],
            [
             0.5,
             "#f7f7f7"
            ],
            [
             0.6,
             "#e6f5d0"
            ],
            [
             0.7,
             "#b8e186"
            ],
            [
             0.8,
             "#7fbc41"
            ],
            [
             0.9,
             "#4d9221"
            ],
            [
             1,
             "#276419"
            ]
           ],
           "sequential": [
            [
             0,
             "#0d0887"
            ],
            [
             0.1111111111111111,
             "#46039f"
            ],
            [
             0.2222222222222222,
             "#7201a8"
            ],
            [
             0.3333333333333333,
             "#9c179e"
            ],
            [
             0.4444444444444444,
             "#bd3786"
            ],
            [
             0.5555555555555556,
             "#d8576b"
            ],
            [
             0.6666666666666666,
             "#ed7953"
            ],
            [
             0.7777777777777778,
             "#fb9f3a"
            ],
            [
             0.8888888888888888,
             "#fdca26"
            ],
            [
             1,
             "#f0f921"
            ]
           ],
           "sequentialminus": [
            [
             0,
             "#0d0887"
            ],
            [
             0.1111111111111111,
             "#46039f"
            ],
            [
             0.2222222222222222,
             "#7201a8"
            ],
            [
             0.3333333333333333,
             "#9c179e"
            ],
            [
             0.4444444444444444,
             "#bd3786"
            ],
            [
             0.5555555555555556,
             "#d8576b"
            ],
            [
             0.6666666666666666,
             "#ed7953"
            ],
            [
             0.7777777777777778,
             "#fb9f3a"
            ],
            [
             0.8888888888888888,
             "#fdca26"
            ],
            [
             1,
             "#f0f921"
            ]
           ]
          },
          "colorway": [
           "#636efa",
           "#EF553B",
           "#00cc96",
           "#ab63fa",
           "#FFA15A",
           "#19d3f3",
           "#FF6692",
           "#B6E880",
           "#FF97FF",
           "#FECB52"
          ],
          "font": {
           "color": "#2a3f5f"
          },
          "geo": {
           "bgcolor": "white",
           "lakecolor": "white",
           "landcolor": "white",
           "showlakes": true,
           "showland": true,
           "subunitcolor": "#C8D4E3"
          },
          "hoverlabel": {
           "align": "left"
          },
          "hovermode": "closest",
          "mapbox": {
           "style": "light"
          },
          "paper_bgcolor": "white",
          "plot_bgcolor": "white",
          "polar": {
           "angularaxis": {
            "gridcolor": "#EBF0F8",
            "linecolor": "#EBF0F8",
            "ticks": ""
           },
           "bgcolor": "white",
           "radialaxis": {
            "gridcolor": "#EBF0F8",
            "linecolor": "#EBF0F8",
            "ticks": ""
           }
          },
          "scene": {
           "xaxis": {
            "backgroundcolor": "white",
            "gridcolor": "#DFE8F3",
            "gridwidth": 2,
            "linecolor": "#EBF0F8",
            "showbackground": true,
            "ticks": "",
            "zerolinecolor": "#EBF0F8"
           },
           "yaxis": {
            "backgroundcolor": "white",
            "gridcolor": "#DFE8F3",
            "gridwidth": 2,
            "linecolor": "#EBF0F8",
            "showbackground": true,
            "ticks": "",
            "zerolinecolor": "#EBF0F8"
           },
           "zaxis": {
            "backgroundcolor": "white",
            "gridcolor": "#DFE8F3",
            "gridwidth": 2,
            "linecolor": "#EBF0F8",
            "showbackground": true,
            "ticks": "",
            "zerolinecolor": "#EBF0F8"
           }
          },
          "shapedefaults": {
           "line": {
            "color": "#2a3f5f"
           }
          },
          "ternary": {
           "aaxis": {
            "gridcolor": "#DFE8F3",
            "linecolor": "#A2B1C6",
            "ticks": ""
           },
           "baxis": {
            "gridcolor": "#DFE8F3",
            "linecolor": "#A2B1C6",
            "ticks": ""
           },
           "bgcolor": "white",
           "caxis": {
            "gridcolor": "#DFE8F3",
            "linecolor": "#A2B1C6",
            "ticks": ""
           }
          },
          "title": {
           "x": 0.05
          },
          "xaxis": {
           "automargin": true,
           "gridcolor": "#EBF0F8",
           "linecolor": "#EBF0F8",
           "ticks": "",
           "title": {
            "standoff": 15
           },
           "zerolinecolor": "#EBF0F8",
           "zerolinewidth": 2
          },
          "yaxis": {
           "automargin": true,
           "gridcolor": "#EBF0F8",
           "linecolor": "#EBF0F8",
           "ticks": "",
           "title": {
            "standoff": 15
           },
           "zerolinecolor": "#EBF0F8",
           "zerolinewidth": 2
          }
         }
        },
        "title": {
         "text": "Clinical Features Importance Rating",
         "x": 0.5
        },
        "xaxis": {
         "anchor": "y",
         "domain": [
          0,
          0.12
         ]
        },
        "xaxis2": {
         "anchor": "y2",
         "domain": [
          0.22,
          0.33999999999999997
         ]
        },
        "xaxis3": {
         "anchor": "y3",
         "domain": [
          0.44,
          0.56
         ]
        },
        "xaxis4": {
         "anchor": "y4",
         "domain": [
          0.66,
          0.78
         ]
        },
        "xaxis5": {
         "anchor": "y5",
         "domain": [
          0.88,
          1
         ]
        },
        "yaxis": {
         "anchor": "x",
         "domain": [
          0,
          1
         ]
        },
        "yaxis2": {
         "anchor": "x2",
         "domain": [
          0,
          1
         ],
         "matches": "y",
         "showticklabels": false
        },
        "yaxis3": {
         "anchor": "x3",
         "domain": [
          0,
          1
         ],
         "matches": "y",
         "showticklabels": false
        },
        "yaxis4": {
         "anchor": "x4",
         "domain": [
          0,
          1
         ],
         "matches": "y",
         "showticklabels": false
        },
        "yaxis5": {
         "anchor": "x5",
         "domain": [
          0,
          1
         ],
         "matches": "y",
         "showticklabels": false
        }
       }
      }
     },
     "metadata": {},
     "output_type": "display_data"
    }
   ],
   "source": [
    "import pandas as pd\n",
    "import plotly.graph_objects as go\n",
    "from plotly.subplots import make_subplots\n",
    "\n",
    "# Sample data\n",
    "data = {\n",
    "    \"Feature\": [\"age\", \"NIHSS\", \"sex\", \"cardiac history\", \"diabetes\", \"hypercholesterolemia\", \"thrombolysis treatment\"],\n",
    "    \"GLM\": [0.5, 0.6, 0.3, 0.2, 0.1, 0.05, 0.2],\n",
    "    \"Lasso\": [0.4, 0.5, 0.2, 0.1, 0.05, 0.02, 0.1],\n",
    "    \"Elastic Net\": [0.6, 0.7, 0.35, 0.15, 0.08, 0.03, 0.12],\n",
    "    \"Tree Boosting\": [0.7, 0.8, 0.4, 0.3, 0.15, 0.1, 0.25],\n",
    "    \"MLP\": [0.6, 0.7, 0.5, 0.25, 0.2, 0.1, 0.3]\n",
    "}\n",
    "df = pd.DataFrame(data)\n",
    "\n",
    "# Create subplots (one per model)\n",
    "models = [\"GLM\", \"Lasso\", \"Elastic Net\", \"Tree Boosting\", \"MLP\"]\n",
    "fig = make_subplots(\n",
    "    rows=1, cols=len(models),  # One row, one column per model\n",
    "    shared_yaxes=True,  # Share the y-axis (features)\n",
    "    horizontal_spacing=0.1,  # Adjust spacing between subplots\n",
    "    subplot_titles=models  # Model names as titles\n",
    ")\n",
    "\n",
    "# Add a bar chart for each model\n",
    "for i, model in enumerate(models, start=1):\n",
    "    fig.add_trace(\n",
    "        go.Bar(\n",
    "            x=df[model],  # Importance values\n",
    "            y=df[\"Feature\"],  # Features\n",
    "            orientation=\"h\",  # Horizontal bar chart\n",
    "            name=model\n",
    "        ),\n",
    "        row=1, col=i\n",
    "    )\n",
    "\n",
    "# Update layout\n",
    "fig.update_layout(\n",
    "    title=\"Clinical Features Importance Rating\",\n",
    "    title_x=0.5,  # Center the title\n",
    "    height=500,  # Adjust height for better readability\n",
    "    showlegend=False,  # Hide legend\n",
    "    template=\"plotly_white\"\n",
    ")\n",
    "\n",
    "# Show the chart\n",
    "fig.show()\n"
   ]
  }
 ],
 "metadata": {
  "kernelspec": {
   "display_name": "Python 3",
   "language": "python",
   "name": "python3"
  },
  "language_info": {
   "codemirror_mode": {
    "name": "ipython",
    "version": 3
   },
   "file_extension": ".py",
   "mimetype": "text/x-python",
   "name": "python",
   "nbconvert_exporter": "python",
   "pygments_lexer": "ipython3",
   "version": "3.9.6"
  }
 },
 "nbformat": 4,
 "nbformat_minor": 2
}
