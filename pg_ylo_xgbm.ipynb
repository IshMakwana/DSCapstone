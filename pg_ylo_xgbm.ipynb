{
 "cells": [
  {
   "cell_type": "code",
   "execution_count": null,
   "metadata": {},
   "outputs": [],
   "source": [
    "import pandas as pd\n",
    "import numpy as np\n",
    "from sklearn.model_selection import train_test_split\n",
    "from sklearn.metrics import mean_absolute_error, mean_squared_error, r2_score\n",
    "import math\n",
    "from model import *\n",
    "from data import *\n",
    "\n",
    "def getSqlForModeling(taxi_type, isTrain):\n",
    "    trip_count = {\n",
    "        \"green\": 3071981,\n",
    "        \"yellow\": 120393705\n",
    "    }\n",
    "    train_size = {\n",
    "        \"green\": math.floor(0.8 * trip_count[GREEN]),\n",
    "        \"yellow\": math.floor(0.8 * trip_count[YELLOW])\n",
    "    }\n",
    "    test_size = {\n",
    "        \"green\": trip_count[GREEN] - train_size[GREEN],\n",
    "        \"yellow\": trip_count[YELLOW] - train_size[YELLOW],\n",
    "    }\n",
    "\n",
    "    columns = COMMON_FETCH_COLUMNS \n",
    "    \n",
    "    # init with limit clause for test\n",
    "    limit_clause = f'LIMIT {test_size[taxi_type]} OFFSET {train_size[taxi_type]}'\n",
    "    \n",
    "    if isTrain:\n",
    "        limit_clause = f'LIMIT {train_size[taxi_type]}'\n",
    "    \n",
    "    sql = f'''\n",
    "        {selFrom(columns, 2020, taxi_type)}\n",
    "        WHERE {' AND '.join(commonConditions(2020))}\n",
    "        UNION ALL\n",
    "        {selFrom(columns, 2021, taxi_type)}\n",
    "        WHERE {' AND '.join(commonConditions(2021))}\n",
    "        UNION ALL\n",
    "        {selFrom(columns, 2022, taxi_type)}\n",
    "        WHERE {' AND '.join(commonConditions(2022))}\n",
    "        UNION ALL\n",
    "        {selFrom(columns, 2023, taxi_type)}\n",
    "        WHERE {' AND '.join(commonConditions(2023))}\n",
    "        {limit_clause}\n",
    "    '''\n",
    "\n",
    "    return text(sql)\n",
    "\n",
    "# getSqlForModeling(GREEN, isTrain=False)"
   ]
  },
  {
   "cell_type": "code",
   "execution_count": 21,
   "metadata": {},
   "outputs": [],
   "source": [
    "taxi_type = YELLOW\n",
    "train_sql = getSqlForModeling(taxi_type, isTrain=True)\n",
    "test_sql = getSqlForModeling(taxi_type, isTrain=False)"
   ]
  },
  {
   "cell_type": "code",
   "execution_count": 22,
   "metadata": {},
   "outputs": [],
   "source": [
    "from xgboost import XGBRegressor\n",
    "\n",
    "model = XGBRegressor(n_estimators=1000, \n",
    "                     learning_rate=0.1, \n",
    "                     max_depth=9,\n",
    "                     n_iter_no_change=10)\n",
    "\n",
    "with DR.engn.connect() as conn:\n",
    "    processed = 0\n",
    "    for df in pd.read_sql(train_sql, conn, chunksize=CHUNK_SIZE):\n",
    "        processed += len(df)\n",
    "        X = df[FEATURES]\n",
    "        y = df[VARIABLE]\n",
    "\n",
    "        model.fit(X, y)\n",
    "        O.out(f'Trained {processed} rows')\n"
   ]
  },
  {
   "cell_type": "code",
   "execution_count": 24,
   "metadata": {},
   "outputs": [],
   "source": [
    "# 5. Predictions\n",
    "# y_pred = model.predict(X_test)\n",
    "with DR.engn.connect() as conn:\n",
    "    processed = 0\n",
    "    y_test = []\n",
    "    y_pred = []\n",
    "    for df in pd.read_sql(test_sql, conn, chunksize=CHUNK_SIZE):\n",
    "        processed += len(df)\n",
    "        X = df[FEATURES]\n",
    "        y_test.append(df[VARIABLE])\n",
    "\n",
    "        y_pred.append(model.predict(X))\n",
    "        O.out(f'Predicted {processed} rows')"
   ]
  },
  {
   "cell_type": "code",
   "execution_count": null,
   "metadata": {},
   "outputs": [],
   "source": [
    "# merge y_test\n",
    "merged_y_test = pd.concat(y_test, ignore_index=True)\n",
    "# merge y_pred\n",
    "merged_y_pred = np.concatenate(y_pred)"
   ]
  },
  {
   "cell_type": "code",
   "execution_count": 33,
   "metadata": {},
   "outputs": [
    {
     "name": "stdout",
     "output_type": "stream",
     "text": [
      "Model Accuracy Metrics:\n",
      "Mean Absolute Error (MAE): 0.61\n",
      "Root Mean Squared Error (RMSE): 2.24\n",
      "R-squared (Accuracy): 0.98\n"
     ]
    },
    {
     "data": {
      "application/vnd.plotly.v1+json": {
       "config": {
        "plotlyServerURL": "https://plot.ly"
       },
       "data": [
        {
         "line": {
          "color": "blue"
         },
         "mode": "lines+markers",
         "name": "Actual",
         "type": "scatter",
         "x": [
          0,
          1,
          2,
          3,
          4,
          5,
          6,
          7,
          8,
          9,
          10,
          11,
          12,
          13,
          14,
          15,
          16,
          17,
          18,
          19,
          20,
          21,
          22,
          23,
          24,
          25,
          26,
          27,
          28,
          29,
          30,
          31,
          32,
          33,
          34,
          35,
          36,
          37,
          38,
          39,
          40,
          41,
          42,
          43,
          44,
          45,
          46,
          47,
          48,
          49,
          50,
          51,
          52,
          53,
          54,
          55,
          56,
          57,
          58,
          59,
          60,
          61,
          62,
          63,
          64,
          65,
          66,
          67,
          68,
          69,
          70,
          71,
          72,
          73,
          74,
          75,
          76,
          77,
          78,
          79,
          80,
          81,
          82,
          83,
          84,
          85,
          86,
          87,
          88,
          89,
          90,
          91,
          92,
          93,
          94,
          95,
          96,
          97,
          98,
          99,
          100,
          101,
          102,
          103,
          104,
          105,
          106,
          107,
          108,
          109,
          110,
          111,
          112,
          113,
          114,
          115,
          116,
          117,
          118,
          119,
          120,
          121,
          122,
          123,
          124,
          125,
          126,
          127,
          128,
          129,
          130,
          131,
          132,
          133,
          134,
          135,
          136,
          137,
          138,
          139,
          140,
          141,
          142,
          143,
          144,
          145,
          146,
          147,
          148,
          149
         ],
         "y": [
          27.5,
          10,
          19.8,
          16.3,
          13.5,
          49.9,
          9.3,
          7.9,
          9.3,
          23.3,
          37.3,
          70,
          18.4,
          21.9,
          7.9,
          5.1,
          14.9,
          12.1,
          16.3,
          10.7,
          8.6,
          10.7,
          12.1,
          7.9,
          23.3,
          70,
          13.5,
          50.5,
          7.2,
          13.5,
          23.3,
          9.3,
          9.3,
          45.7,
          25.4,
          13.5,
          20.5,
          6.5,
          33.1,
          5.8,
          11.4,
          9.3,
          11.4,
          19.8,
          10.7,
          48.5,
          3,
          21.2,
          54.1,
          8.6,
          24,
          26.8,
          19.8,
          70.2,
          70,
          33.1,
          13.5,
          49.2,
          80.7,
          29.6,
          7.2,
          8.6,
          24.7,
          70,
          12.1,
          10.7,
          17,
          10,
          70,
          11.4,
          11.4,
          9.3,
          38.7,
          27.5,
          70,
          31,
          54.8,
          13.5,
          22.6,
          46.4,
          10.7,
          12.8,
          66,
          16.3,
          12.1,
          5.8,
          11.4,
          7.9,
          7.2,
          25.4,
          20.5,
          8.6,
          55.5,
          8.6,
          16.3,
          16.3,
          12.8,
          70,
          70,
          18.4,
          14.9,
          14.9,
          26.5,
          12.1,
          12.8,
          11.4,
          26.1,
          7.9,
          14.9,
          34.5,
          43.6,
          70,
          19.8,
          7.2,
          22.6,
          10.7,
          19.8,
          41.5,
          8.6,
          5.8,
          15.6,
          19.8,
          70,
          19.8,
          19.1,
          26.1,
          45,
          12.8,
          15.6,
          8.6,
          34.5,
          49.2,
          21.2,
          14.9,
          10.7,
          12.1,
          7.9,
          17.7,
          9.3,
          14.9,
          24.7,
          47.8,
          34.5,
          51.3,
          7.9,
          12.8,
          14.2,
          70,
          8.6,
          10.7
         ]
        },
        {
         "line": {
          "color": "orange"
         },
         "mode": "lines+markers",
         "name": "Predicted",
         "type": "scatter",
         "x": [
          0,
          1,
          2,
          3,
          4,
          5,
          6,
          7,
          8,
          9,
          10,
          11,
          12,
          13,
          14,
          15,
          16,
          17,
          18,
          19,
          20,
          21,
          22,
          23,
          24,
          25,
          26,
          27,
          28,
          29,
          30,
          31,
          32,
          33,
          34,
          35,
          36,
          37,
          38,
          39,
          40,
          41,
          42,
          43,
          44,
          45,
          46,
          47,
          48,
          49,
          50,
          51,
          52,
          53,
          54,
          55,
          56,
          57,
          58,
          59,
          60,
          61,
          62,
          63,
          64,
          65,
          66,
          67,
          68,
          69,
          70,
          71,
          72,
          73,
          74,
          75,
          76,
          77,
          78,
          79,
          80,
          81,
          82,
          83,
          84,
          85,
          86,
          87,
          88,
          89,
          90,
          91,
          92,
          93,
          94,
          95,
          96,
          97,
          98,
          99,
          100,
          101,
          102,
          103,
          104,
          105,
          106,
          107,
          108,
          109,
          110,
          111,
          112,
          113,
          114,
          115,
          116,
          117,
          118,
          119,
          120,
          121,
          122,
          123,
          124,
          125,
          126,
          127,
          128,
          129,
          130,
          131,
          132,
          133,
          134,
          135,
          136,
          137,
          138,
          139,
          140,
          141,
          142,
          143,
          144,
          145,
          146,
          147,
          148,
          149
         ],
         "y": [
          26.483924865722656,
          10.053328514099121,
          20.34494972229004,
          15.674764633178711,
          13.60406494140625,
          50.94242477416992,
          9.180120468139648,
          7.929081916809082,
          9.185884475708008,
          23.119842529296875,
          38.28733444213867,
          70.33116149902344,
          18.455018997192383,
          22.360708236694336,
          7.899880886077881,
          4.989246368408203,
          14.651409149169922,
          12.244250297546387,
          16.371307373046875,
          10.637922286987305,
          8.778010368347168,
          10.910155296325684,
          12.158785820007324,
          8.489182472229004,
          23.519046783447266,
          70.17723083496094,
          13.495716094970703,
          48.55524444580078,
          7.799260139465332,
          13.585984230041504,
          22.649038314819336,
          9.197824478149414,
          10.175501823425293,
          49.31947708129883,
          24.99775505065918,
          13.452171325683594,
          20.626516342163086,
          6.742473125457764,
          32.94667053222656,
          6.436055660247803,
          11.662755012512207,
          9.671669006347656,
          11.052327156066895,
          20.107898712158203,
          10.498204231262207,
          45.00424575805664,
          17.269458770751953,
          20.669836044311523,
          53.06177520751953,
          8.424494743347168,
          23.97428321838379,
          28.706911087036133,
          19.5712833404541,
          75.17317199707031,
          69.47647094726562,
          34.0921630859375,
          13.386224746704102,
          50.258155822753906,
          78.77484130859375,
          27.863014221191406,
          7.080417633056641,
          8.696682929992676,
          24.959325790405273,
          70.19092559814453,
          12.103582382202148,
          10.745461463928223,
          17.190044403076172,
          10.075481414794922,
          69.96493530273438,
          11.86398983001709,
          11.701333045959473,
          8.086451530456543,
          36.57975387573242,
          27.250274658203125,
          70.11872863769531,
          32.02497482299805,
          55.254722595214844,
          13.4473876953125,
          22.490577697753906,
          46.982906341552734,
          10.593558311462402,
          12.89068603515625,
          61.80219268798828,
          16.107011795043945,
          11.792224884033203,
          5.817100524902344,
          11.356476783752441,
          7.873579978942871,
          7.04714822769165,
          24.144681930541992,
          19.687345504760742,
          8.665709495544434,
          57.25927734375,
          8.73608112335205,
          16.007646560668945,
          16.496273040771484,
          12.63700008392334,
          70.04166412353516,
          69.93235778808594,
          17.87765884399414,
          14.893885612487793,
          15.039353370666504,
          23.66408348083496,
          12.873746871948242,
          13.063309669494629,
          11.244438171386719,
          25.982221603393555,
          7.921450138092041,
          14.779413223266602,
          33.93414306640625,
          49.51237869262695,
          69.94550323486328,
          19.24526596069336,
          7.321186065673828,
          21.13035774230957,
          9.901471138000488,
          20.85830307006836,
          41.851253509521484,
          8.623525619506836,
          5.704898357391357,
          15.724809646606445,
          19.64269256591797,
          69.89239501953125,
          20.030471801757812,
          19.24386978149414,
          26.22916030883789,
          46.728519439697266,
          12.252449989318848,
          15.467153549194336,
          9.617300987243652,
          35.87002182006836,
          47.49230194091797,
          21.747650146484375,
          14.928703308105469,
          10.120911598205566,
          11.79661750793457,
          7.591174125671387,
          17.589231491088867,
          9.346826553344727,
          14.828463554382324,
          24.881139755249023,
          45.292171478271484,
          37.34093475341797,
          53.417903900146484,
          7.932440280914307,
          12.896048545837402,
          14.275492668151855,
          70.03296661376953,
          8.178816795349121,
          10.473689079284668
         ]
        }
       ],
       "layout": {
        "legend": {
         "x": 0.5,
         "xanchor": "center",
         "y": 1.15,
         "yanchor": "top"
        },
        "template": {
         "data": {
          "bar": [
           {
            "error_x": {
             "color": "#2a3f5f"
            },
            "error_y": {
             "color": "#2a3f5f"
            },
            "marker": {
             "line": {
              "color": "white",
              "width": 0.5
             },
             "pattern": {
              "fillmode": "overlay",
              "size": 10,
              "solidity": 0.2
             }
            },
            "type": "bar"
           }
          ],
          "barpolar": [
           {
            "marker": {
             "line": {
              "color": "white",
              "width": 0.5
             },
             "pattern": {
              "fillmode": "overlay",
              "size": 10,
              "solidity": 0.2
             }
            },
            "type": "barpolar"
           }
          ],
          "carpet": [
           {
            "aaxis": {
             "endlinecolor": "#2a3f5f",
             "gridcolor": "#C8D4E3",
             "linecolor": "#C8D4E3",
             "minorgridcolor": "#C8D4E3",
             "startlinecolor": "#2a3f5f"
            },
            "baxis": {
             "endlinecolor": "#2a3f5f",
             "gridcolor": "#C8D4E3",
             "linecolor": "#C8D4E3",
             "minorgridcolor": "#C8D4E3",
             "startlinecolor": "#2a3f5f"
            },
            "type": "carpet"
           }
          ],
          "choropleth": [
           {
            "colorbar": {
             "outlinewidth": 0,
             "ticks": ""
            },
            "type": "choropleth"
           }
          ],
          "contour": [
           {
            "colorbar": {
             "outlinewidth": 0,
             "ticks": ""
            },
            "colorscale": [
             [
              0,
              "#0d0887"
             ],
             [
              0.1111111111111111,
              "#46039f"
             ],
             [
              0.2222222222222222,
              "#7201a8"
             ],
             [
              0.3333333333333333,
              "#9c179e"
             ],
             [
              0.4444444444444444,
              "#bd3786"
             ],
             [
              0.5555555555555556,
              "#d8576b"
             ],
             [
              0.6666666666666666,
              "#ed7953"
             ],
             [
              0.7777777777777778,
              "#fb9f3a"
             ],
             [
              0.8888888888888888,
              "#fdca26"
             ],
             [
              1,
              "#f0f921"
             ]
            ],
            "type": "contour"
           }
          ],
          "contourcarpet": [
           {
            "colorbar": {
             "outlinewidth": 0,
             "ticks": ""
            },
            "type": "contourcarpet"
           }
          ],
          "heatmap": [
           {
            "colorbar": {
             "outlinewidth": 0,
             "ticks": ""
            },
            "colorscale": [
             [
              0,
              "#0d0887"
             ],
             [
              0.1111111111111111,
              "#46039f"
             ],
             [
              0.2222222222222222,
              "#7201a8"
             ],
             [
              0.3333333333333333,
              "#9c179e"
             ],
             [
              0.4444444444444444,
              "#bd3786"
             ],
             [
              0.5555555555555556,
              "#d8576b"
             ],
             [
              0.6666666666666666,
              "#ed7953"
             ],
             [
              0.7777777777777778,
              "#fb9f3a"
             ],
             [
              0.8888888888888888,
              "#fdca26"
             ],
             [
              1,
              "#f0f921"
             ]
            ],
            "type": "heatmap"
           }
          ],
          "heatmapgl": [
           {
            "colorbar": {
             "outlinewidth": 0,
             "ticks": ""
            },
            "colorscale": [
             [
              0,
              "#0d0887"
             ],
             [
              0.1111111111111111,
              "#46039f"
             ],
             [
              0.2222222222222222,
              "#7201a8"
             ],
             [
              0.3333333333333333,
              "#9c179e"
             ],
             [
              0.4444444444444444,
              "#bd3786"
             ],
             [
              0.5555555555555556,
              "#d8576b"
             ],
             [
              0.6666666666666666,
              "#ed7953"
             ],
             [
              0.7777777777777778,
              "#fb9f3a"
             ],
             [
              0.8888888888888888,
              "#fdca26"
             ],
             [
              1,
              "#f0f921"
             ]
            ],
            "type": "heatmapgl"
           }
          ],
          "histogram": [
           {
            "marker": {
             "pattern": {
              "fillmode": "overlay",
              "size": 10,
              "solidity": 0.2
             }
            },
            "type": "histogram"
           }
          ],
          "histogram2d": [
           {
            "colorbar": {
             "outlinewidth": 0,
             "ticks": ""
            },
            "colorscale": [
             [
              0,
              "#0d0887"
             ],
             [
              0.1111111111111111,
              "#46039f"
             ],
             [
              0.2222222222222222,
              "#7201a8"
             ],
             [
              0.3333333333333333,
              "#9c179e"
             ],
             [
              0.4444444444444444,
              "#bd3786"
             ],
             [
              0.5555555555555556,
              "#d8576b"
             ],
             [
              0.6666666666666666,
              "#ed7953"
             ],
             [
              0.7777777777777778,
              "#fb9f3a"
             ],
             [
              0.8888888888888888,
              "#fdca26"
             ],
             [
              1,
              "#f0f921"
             ]
            ],
            "type": "histogram2d"
           }
          ],
          "histogram2dcontour": [
           {
            "colorbar": {
             "outlinewidth": 0,
             "ticks": ""
            },
            "colorscale": [
             [
              0,
              "#0d0887"
             ],
             [
              0.1111111111111111,
              "#46039f"
             ],
             [
              0.2222222222222222,
              "#7201a8"
             ],
             [
              0.3333333333333333,
              "#9c179e"
             ],
             [
              0.4444444444444444,
              "#bd3786"
             ],
             [
              0.5555555555555556,
              "#d8576b"
             ],
             [
              0.6666666666666666,
              "#ed7953"
             ],
             [
              0.7777777777777778,
              "#fb9f3a"
             ],
             [
              0.8888888888888888,
              "#fdca26"
             ],
             [
              1,
              "#f0f921"
             ]
            ],
            "type": "histogram2dcontour"
           }
          ],
          "mesh3d": [
           {
            "colorbar": {
             "outlinewidth": 0,
             "ticks": ""
            },
            "type": "mesh3d"
           }
          ],
          "parcoords": [
           {
            "line": {
             "colorbar": {
              "outlinewidth": 0,
              "ticks": ""
             }
            },
            "type": "parcoords"
           }
          ],
          "pie": [
           {
            "automargin": true,
            "type": "pie"
           }
          ],
          "scatter": [
           {
            "fillpattern": {
             "fillmode": "overlay",
             "size": 10,
             "solidity": 0.2
            },
            "type": "scatter"
           }
          ],
          "scatter3d": [
           {
            "line": {
             "colorbar": {
              "outlinewidth": 0,
              "ticks": ""
             }
            },
            "marker": {
             "colorbar": {
              "outlinewidth": 0,
              "ticks": ""
             }
            },
            "type": "scatter3d"
           }
          ],
          "scattercarpet": [
           {
            "marker": {
             "colorbar": {
              "outlinewidth": 0,
              "ticks": ""
             }
            },
            "type": "scattercarpet"
           }
          ],
          "scattergeo": [
           {
            "marker": {
             "colorbar": {
              "outlinewidth": 0,
              "ticks": ""
             }
            },
            "type": "scattergeo"
           }
          ],
          "scattergl": [
           {
            "marker": {
             "colorbar": {
              "outlinewidth": 0,
              "ticks": ""
             }
            },
            "type": "scattergl"
           }
          ],
          "scattermapbox": [
           {
            "marker": {
             "colorbar": {
              "outlinewidth": 0,
              "ticks": ""
             }
            },
            "type": "scattermapbox"
           }
          ],
          "scatterpolar": [
           {
            "marker": {
             "colorbar": {
              "outlinewidth": 0,
              "ticks": ""
             }
            },
            "type": "scatterpolar"
           }
          ],
          "scatterpolargl": [
           {
            "marker": {
             "colorbar": {
              "outlinewidth": 0,
              "ticks": ""
             }
            },
            "type": "scatterpolargl"
           }
          ],
          "scatterternary": [
           {
            "marker": {
             "colorbar": {
              "outlinewidth": 0,
              "ticks": ""
             }
            },
            "type": "scatterternary"
           }
          ],
          "surface": [
           {
            "colorbar": {
             "outlinewidth": 0,
             "ticks": ""
            },
            "colorscale": [
             [
              0,
              "#0d0887"
             ],
             [
              0.1111111111111111,
              "#46039f"
             ],
             [
              0.2222222222222222,
              "#7201a8"
             ],
             [
              0.3333333333333333,
              "#9c179e"
             ],
             [
              0.4444444444444444,
              "#bd3786"
             ],
             [
              0.5555555555555556,
              "#d8576b"
             ],
             [
              0.6666666666666666,
              "#ed7953"
             ],
             [
              0.7777777777777778,
              "#fb9f3a"
             ],
             [
              0.8888888888888888,
              "#fdca26"
             ],
             [
              1,
              "#f0f921"
             ]
            ],
            "type": "surface"
           }
          ],
          "table": [
           {
            "cells": {
             "fill": {
              "color": "#EBF0F8"
             },
             "line": {
              "color": "white"
             }
            },
            "header": {
             "fill": {
              "color": "#C8D4E3"
             },
             "line": {
              "color": "white"
             }
            },
            "type": "table"
           }
          ]
         },
         "layout": {
          "annotationdefaults": {
           "arrowcolor": "#2a3f5f",
           "arrowhead": 0,
           "arrowwidth": 1
          },
          "autotypenumbers": "strict",
          "coloraxis": {
           "colorbar": {
            "outlinewidth": 0,
            "ticks": ""
           }
          },
          "colorscale": {
           "diverging": [
            [
             0,
             "#8e0152"
            ],
            [
             0.1,
             "#c51b7d"
            ],
            [
             0.2,
             "#de77ae"
            ],
            [
             0.3,
             "#f1b6da"
            ],
            [
             0.4,
             "#fde0ef"
            ],
            [
             0.5,
             "#f7f7f7"
            ],
            [
             0.6,
             "#e6f5d0"
            ],
            [
             0.7,
             "#b8e186"
            ],
            [
             0.8,
             "#7fbc41"
            ],
            [
             0.9,
             "#4d9221"
            ],
            [
             1,
             "#276419"
            ]
           ],
           "sequential": [
            [
             0,
             "#0d0887"
            ],
            [
             0.1111111111111111,
             "#46039f"
            ],
            [
             0.2222222222222222,
             "#7201a8"
            ],
            [
             0.3333333333333333,
             "#9c179e"
            ],
            [
             0.4444444444444444,
             "#bd3786"
            ],
            [
             0.5555555555555556,
             "#d8576b"
            ],
            [
             0.6666666666666666,
             "#ed7953"
            ],
            [
             0.7777777777777778,
             "#fb9f3a"
            ],
            [
             0.8888888888888888,
             "#fdca26"
            ],
            [
             1,
             "#f0f921"
            ]
           ],
           "sequentialminus": [
            [
             0,
             "#0d0887"
            ],
            [
             0.1111111111111111,
             "#46039f"
            ],
            [
             0.2222222222222222,
             "#7201a8"
            ],
            [
             0.3333333333333333,
             "#9c179e"
            ],
            [
             0.4444444444444444,
             "#bd3786"
            ],
            [
             0.5555555555555556,
             "#d8576b"
            ],
            [
             0.6666666666666666,
             "#ed7953"
            ],
            [
             0.7777777777777778,
             "#fb9f3a"
            ],
            [
             0.8888888888888888,
             "#fdca26"
            ],
            [
             1,
             "#f0f921"
            ]
           ]
          },
          "colorway": [
           "#636efa",
           "#EF553B",
           "#00cc96",
           "#ab63fa",
           "#FFA15A",
           "#19d3f3",
           "#FF6692",
           "#B6E880",
           "#FF97FF",
           "#FECB52"
          ],
          "font": {
           "color": "#2a3f5f"
          },
          "geo": {
           "bgcolor": "white",
           "lakecolor": "white",
           "landcolor": "white",
           "showlakes": true,
           "showland": true,
           "subunitcolor": "#C8D4E3"
          },
          "hoverlabel": {
           "align": "left"
          },
          "hovermode": "closest",
          "mapbox": {
           "style": "light"
          },
          "paper_bgcolor": "white",
          "plot_bgcolor": "white",
          "polar": {
           "angularaxis": {
            "gridcolor": "#EBF0F8",
            "linecolor": "#EBF0F8",
            "ticks": ""
           },
           "bgcolor": "white",
           "radialaxis": {
            "gridcolor": "#EBF0F8",
            "linecolor": "#EBF0F8",
            "ticks": ""
           }
          },
          "scene": {
           "xaxis": {
            "backgroundcolor": "white",
            "gridcolor": "#DFE8F3",
            "gridwidth": 2,
            "linecolor": "#EBF0F8",
            "showbackground": true,
            "ticks": "",
            "zerolinecolor": "#EBF0F8"
           },
           "yaxis": {
            "backgroundcolor": "white",
            "gridcolor": "#DFE8F3",
            "gridwidth": 2,
            "linecolor": "#EBF0F8",
            "showbackground": true,
            "ticks": "",
            "zerolinecolor": "#EBF0F8"
           },
           "zaxis": {
            "backgroundcolor": "white",
            "gridcolor": "#DFE8F3",
            "gridwidth": 2,
            "linecolor": "#EBF0F8",
            "showbackground": true,
            "ticks": "",
            "zerolinecolor": "#EBF0F8"
           }
          },
          "shapedefaults": {
           "line": {
            "color": "#2a3f5f"
           }
          },
          "ternary": {
           "aaxis": {
            "gridcolor": "#DFE8F3",
            "linecolor": "#A2B1C6",
            "ticks": ""
           },
           "baxis": {
            "gridcolor": "#DFE8F3",
            "linecolor": "#A2B1C6",
            "ticks": ""
           },
           "bgcolor": "white",
           "caxis": {
            "gridcolor": "#DFE8F3",
            "linecolor": "#A2B1C6",
            "ticks": ""
           }
          },
          "title": {
           "x": 0.05
          },
          "xaxis": {
           "automargin": true,
           "gridcolor": "#EBF0F8",
           "linecolor": "#EBF0F8",
           "ticks": "",
           "title": {
            "standoff": 15
           },
           "zerolinecolor": "#EBF0F8",
           "zerolinewidth": 2
          },
          "yaxis": {
           "automargin": true,
           "gridcolor": "#EBF0F8",
           "linecolor": "#EBF0F8",
           "ticks": "",
           "title": {
            "standoff": 15
           },
           "zerolinecolor": "#EBF0F8",
           "zerolinewidth": 2
          }
         }
        },
        "title": {
         "text": "Actual vs Predicted Fare Amount (Limited to 150 Samples)"
        },
        "xaxis": {
         "title": {
          "text": "Sample Index"
         }
        },
        "yaxis": {
         "title": {
          "text": "Fare Amount ($)"
         }
        }
       }
      }
     },
     "metadata": {},
     "output_type": "display_data"
    }
   ],
   "source": [
    "from sklearn.metrics import r2_score, mean_absolute_error, mean_squared_error\n",
    "import plotly.graph_objects as go\n",
    "\n",
    "def showPerformance(y_test, y_pred):\n",
    "    # Calculate Model Accuracy Metrics\n",
    "    mae = mean_absolute_error(y_test, y_pred)\n",
    "    rmse = np.sqrt(mean_squared_error(y_test, y_pred))\n",
    "    r2 = r2_score(y_test, y_pred)\n",
    "\n",
    "    print(f\"Model Accuracy Metrics:\")\n",
    "    print(f\"Mean Absolute Error (MAE): {mae:.2f}\")\n",
    "    print(f\"Root Mean Squared Error (RMSE): {rmse:.2f}\")\n",
    "    print(f\"R-squared (Accuracy): {r2:.2f}\")\n",
    "\n",
    "    # Limit data to 150 samples for visualization\n",
    "    samples_to_plot = 150\n",
    "    y_test_limited = y_test[:samples_to_plot].reset_index(drop=True)\n",
    "    y_pred_limited = y_pred[:samples_to_plot]\n",
    "\n",
    "    # Create Line Chart with Plotly\n",
    "    fig = go.Figure()\n",
    "\n",
    "    # Actual Values\n",
    "    fig.add_trace(go.Scatter(\n",
    "        x=y_test_limited.index, \n",
    "        y=y_test_limited, \n",
    "        mode=\"lines+markers\", \n",
    "        name=\"Actual\",\n",
    "        line=dict(color=\"blue\")\n",
    "    ))\n",
    "\n",
    "    # Predicted Values\n",
    "    fig.add_trace(go.Scatter(\n",
    "        x=y_test_limited.index, \n",
    "        y=y_pred_limited, \n",
    "        mode=\"lines+markers\", \n",
    "        name=\"Predicted\",\n",
    "        line=dict(color=\"orange\")\n",
    "    ))\n",
    "\n",
    "    # Customize Layout\n",
    "    fig.update_layout(\n",
    "        title=\"Actual vs Predicted Fare Amount (Limited to 150 Samples)\",\n",
    "        xaxis_title=\"Sample Index\",\n",
    "        yaxis_title=\"Fare Amount ($)\",\n",
    "        legend=dict(x=0.5, y=1.15, xanchor=\"center\", yanchor=\"top\"),\n",
    "        template=\"plotly_white\"\n",
    "    )\n",
    "\n",
    "    # Show the plot\n",
    "    fig.show()\n",
    "\n",
    "showPerformance(merged_y_test, merged_y_pred)"
   ]
  }
 ],
 "metadata": {
  "kernelspec": {
   "display_name": "Python 3",
   "language": "python",
   "name": "python3"
  },
  "language_info": {
   "codemirror_mode": {
    "name": "ipython",
    "version": 3
   },
   "file_extension": ".py",
   "mimetype": "text/x-python",
   "name": "python",
   "nbconvert_exporter": "python",
   "pygments_lexer": "ipython3",
   "version": "3.9.6"
  }
 },
 "nbformat": 4,
 "nbformat_minor": 2
}
